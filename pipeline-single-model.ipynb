{
 "cells": [
  {
   "cell_type": "markdown",
   "id": "60365581-6ba5-453a-9c9d-e326cf56e717",
   "metadata": {
    "jp-MarkdownHeadingCollapsed": true,
    "tags": []
   },
   "source": [
    "#### Prerequisites "
   ]
  },
  {
   "cell_type": "code",
   "execution_count": 2,
   "id": "587c982e-fc0b-4381-aa94-601338fe80b4",
   "metadata": {
    "tags": []
   },
   "outputs": [],
   "source": [
    "%%capture\n",
    "\n",
    "!pip install sagemaker==2.121.2\n",
    "!pip install boto3==1.26.27"
   ]
  },
  {
   "cell_type": "markdown",
   "id": "79fd62ad-59c1-4c82-aeb2-769ef00c3038",
   "metadata": {},
   "source": [
    "### Imports"
   ]
  },
  {
   "cell_type": "code",
   "execution_count": 3,
   "id": "a9700ac1-f47b-49cb-b306-7ce136d12074",
   "metadata": {
    "tags": []
   },
   "outputs": [],
   "source": [
    "from sagemaker.workflow.parameters import ParameterInteger, ParameterString, ParameterFloat\n",
    "from sagemaker.dataset_definition.inputs import AthenaDatasetDefinition, DatasetDefinition\n",
    "from sagemaker.workflow.conditions import ConditionGreaterThanOrEqualTo\n",
    "from sagemaker.workflow.steps import ProcessingStep, TransformStep\n",
    "from sagemaker.processing import ProcessingInput, ProcessingOutput\n",
    "from sagemaker import MetricsSource, ModelMetrics, ModelPackage\n",
    "from sagemaker.workflow.pipeline_context import PipelineSession\n",
    "from sagemaker.workflow.condition_step import ConditionStep\n",
    "from sagemaker.sklearn.processing import SKLearnProcessor\n",
    "from sagemaker.workflow.properties import PropertyFile\n",
    "from sagemaker.workflow.functions import Join, JsonGet\n",
    "from sagemaker.workflow.automl_step import AutoMLStep\n",
    "from sagemaker.workflow.model_step import ModelStep\n",
    "from sagemaker.workflow.pipeline import Pipeline\n",
    "from sagemaker.workflow.functions import Join\n",
    "from sagemaker.transformer import Transformer\n",
    "from sagemaker.processing import Processor\n",
    "from sagemaker import AutoML, AutoMLInput\n",
    "import sagemaker\n",
    "import logging\n",
    "import boto3\n",
    "import json\n",
    "import time"
   ]
  },
  {
   "cell_type": "code",
   "execution_count": 4,
   "id": "52d1d647-5629-4bcb-bbf8-ce22aba43519",
   "metadata": {
    "tags": []
   },
   "outputs": [],
   "source": [
    "logger = logging.getLogger('sagemaker')\n",
    "logger.setLevel(logging.DEBUG)\n",
    "logger.addHandler(logging.StreamHandler())"
   ]
  },
  {
   "cell_type": "code",
   "execution_count": 5,
   "id": "87aa6386-ff4f-4378-8f30-823061d7014a",
   "metadata": {
    "tags": []
   },
   "outputs": [
    {
     "name": "stderr",
     "output_type": "stream",
     "text": [
      "Using SageMaker: 2.121.2\n",
      "Using Boto3: 1.26.27\n"
     ]
    }
   ],
   "source": [
    "logger.info(f'Using SageMaker: {sagemaker.__version__}')\n",
    "logger.info(f'Using Boto3: {boto3.__version__}')"
   ]
  },
  {
   "cell_type": "markdown",
   "id": "5545a06f-b8b1-4f68-812d-eb17f67496d0",
   "metadata": {},
   "source": [
    "### Essentials "
   ]
  },
  {
   "cell_type": "code",
   "execution_count": 6,
   "id": "d617e5fe-fcee-46cb-a897-074f860a8664",
   "metadata": {
    "tags": []
   },
   "outputs": [],
   "source": [
    "sagemaker_session = sagemaker.Session()\n",
    "pipeline_session = PipelineSession()\n",
    "s3_client = boto3.client('s3')"
   ]
  },
  {
   "cell_type": "code",
   "execution_count": 7,
   "id": "d1c7405f-2cbb-4944-a35a-635ce5d82d8b",
   "metadata": {
    "tags": []
   },
   "outputs": [
    {
     "data": {
      "text/plain": [
       "'22-15-32-17'"
      ]
     },
     "execution_count": 7,
     "metadata": {},
     "output_type": "execute_result"
    }
   ],
   "source": [
    "ROLE = sagemaker.get_execution_role()\n",
    "BUCKET = sagemaker_session.default_bucket()  # Can also be a custom S3 bucket\n",
    "PREFIX = '01-dw-datasets'\n",
    "PROCESSING_INPUT_PATH = f's3://{BUCKET}/{PREFIX}'\n",
    "PROCESSING_INPUT_NAME = 'loans.csv' #\n",
    "PROCESSING_OUTPUT_PATH = f's3://{BUCKET}/{PREFIX}'\n",
    "NODE_ID = '47d300b9-fca2-4799-a944-efbbddd827de'\n",
    "PROCESSING_OUTPUT_NAME = f'{NODE_ID}.default'\n",
    "CURRENT_TIMESTAMP = time.strftime('%d-%H-%M-%S', time.gmtime())\n",
    "CURRENT_TIMESTAMP"
   ]
  },
  {
   "cell_type": "markdown",
   "id": "cb527816-573c-498d-b426-c07d1ec6de7c",
   "metadata": {},
   "source": [
    "### Define Pipeline Parameters "
   ]
  },
  {
   "cell_type": "code",
   "execution_count": 8,
   "id": "c3f268e7-2540-4a5f-85cd-10b9ea2a282e",
   "metadata": {
    "tags": []
   },
   "outputs": [],
   "source": [
    "instance_count = ParameterInteger(name='InstanceCount', default_value=1)\n",
    "instance_type = ParameterString(name='InstanceType', default_value='ml.m5.xlarge')\n",
    "model_approval_status = ParameterString(name='ModelApprovalStatus', default_value='Approved')\n",
    "model_package_group_name = ParameterString(name='ModelPackageName', default_value='LowCodePipelineModels')\n",
    "model_registration_metric_threshold = ParameterFloat(name='ModelRegistrationMetricThreshold', default_value=0.0)"
   ]
  },
  {
   "cell_type": "markdown",
   "id": "1fd5508c-9c24-4e4d-a400-26408f5bc865",
   "metadata": {},
   "source": [
    "### 1. Create Data Wrangler Processing Step"
   ]
  },
  {
   "cell_type": "markdown",
   "id": "266bec6c-da1c-4ee3-838f-93f6cc13592f",
   "metadata": {},
   "source": [
    "#### Processing Input and Output"
   ]
  },
  {
   "cell_type": "code",
   "execution_count": 9,
   "id": "d79542a2-1c33-4c35-a955-80fb829dc34e",
   "metadata": {
    "tags": []
   },
   "outputs": [],
   "source": [
    "data_sources = []\n",
    "processing_input = ProcessingInput(source=f'{PROCESSING_INPUT_PATH}/{PROCESSING_INPUT_NAME}', \n",
    "                                   destination=f'/opt/ml/processing/{PROCESSING_INPUT_NAME}', \n",
    "                                   input_name=PROCESSING_INPUT_NAME, \n",
    "                                   s3_data_type='S3Prefix', \n",
    "                                   s3_input_mode='File', \n",
    "                                   s3_data_distribution_type='FullyReplicated')\n",
    "data_sources.append(processing_input)"
   ]
  },
  {
   "cell_type": "code",
   "execution_count": 10,
   "id": "bc787bc7-0b94-4d09-bec6-957f12555a4e",
   "metadata": {
    "tags": []
   },
   "outputs": [],
   "source": [
    "processing_job_output = ProcessingOutput(source='/opt/ml/processing/output', \n",
    "                                         destination=f'{PROCESSING_OUTPUT_PATH}/{CURRENT_TIMESTAMP}',\n",
    "                                         output_name=PROCESSING_OUTPUT_NAME,\n",
    "                                         s3_upload_mode='EndOfJob')"
   ]
  },
  {
   "cell_type": "markdown",
   "id": "62d89f01-a439-472b-a786-ad877251b183",
   "metadata": {},
   "source": [
    "#### Upload original data flow to S3"
   ]
  },
  {
   "cell_type": "code",
   "execution_count": 11,
   "id": "c516db3e-4135-4b83-844e-c66cb03e8b45",
   "metadata": {
    "tags": []
   },
   "outputs": [
    {
     "data": {
      "text/plain": [
       "'s3://sagemaker-us-east-1-119174016168/01-dw-datasets/22-15-32-17-loans.flow'"
      ]
     },
     "execution_count": 11,
     "metadata": {},
     "output_type": "execute_result"
    }
   ],
   "source": [
    "FLOW_FILE_NAME = 'loans.flow'\n",
    "s3_client.upload_file(FLOW_FILE_NAME, \n",
    "                      BUCKET, \n",
    "                      f'{PREFIX}/{CURRENT_TIMESTAMP}-{FLOW_FILE_NAME}')\n",
    "FLOW_S3_URI = f's3://{BUCKET}/{PREFIX}/{CURRENT_TIMESTAMP}-{FLOW_FILE_NAME}'\n",
    "FLOW_S3_URI"
   ]
  },
  {
   "cell_type": "code",
   "execution_count": 12,
   "id": "0623005d-11b2-4027-b436-6dd74d4ff886",
   "metadata": {
    "tags": []
   },
   "outputs": [],
   "source": [
    "flow_input = ProcessingInput(source=FLOW_S3_URI, \n",
    "                             destination='/opt/ml/processing/flow', \n",
    "                             input_name='flow', \n",
    "                             s3_data_type='S3Prefix', \n",
    "                             s3_input_mode='File', \n",
    "                             s3_data_distribution_type='FullyReplicated')"
   ]
  },
  {
   "cell_type": "markdown",
   "id": "2abdd919-09d9-42cd-874a-9cb0637f82ef",
   "metadata": {},
   "source": [
    "#### Data Wrangler config parameters"
   ]
  },
  {
   "cell_type": "code",
   "execution_count": 13,
   "id": "56064088-4615-4347-bb0b-23956ad7975c",
   "metadata": {
    "tags": []
   },
   "outputs": [],
   "source": [
    "PROCESSING_JOB_NAME = f'Data-Wrangler-Processing-job-{CURRENT_TIMESTAMP}'\n",
    "DW_PROCESSING_CONTAINER_URI = '663277389841.dkr.ecr.us-east-1.amazonaws.com/sagemaker-data-wrangler-container:1.31.0'\n",
    "INSTANCE_COUNT = 2\n",
    "INSTANCE_TYPE = 'ml.m5.4xlarge'\n",
    "EBS_VOLUME_SIZE = 30  # in GB\n",
    "OUTPUT_CONTENT_TYPE = 'CSV'"
   ]
  },
  {
   "cell_type": "code",
   "execution_count": 14,
   "id": "57648e15-b749-418e-b9c9-92cdd7c40d98",
   "metadata": {
    "tags": []
   },
   "outputs": [],
   "source": [
    "refit_trained_params = {'refit': True, \n",
    "                        'output_flow': f'{CURRENT_TIMESTAMP}-refitted-{FLOW_FILE_NAME}'}"
   ]
  },
  {
   "cell_type": "markdown",
   "id": "a3af6141-5dd5-45dd-ab0c-845d52680732",
   "metadata": {},
   "source": [
    "#### Create a Processor"
   ]
  },
  {
   "cell_type": "code",
   "execution_count": 15,
   "id": "1b3840d2-3228-444d-a9ae-5ed88977f1b4",
   "metadata": {
    "tags": []
   },
   "outputs": [],
   "source": [
    "processor = Processor(base_job_name=PROCESSING_JOB_NAME,\n",
    "                      role=ROLE, \n",
    "                      image_uri=DW_PROCESSING_CONTAINER_URI, \n",
    "                      instance_count=INSTANCE_COUNT, \n",
    "                      instance_type=INSTANCE_TYPE, \n",
    "                      volume_size_in_gb=EBS_VOLUME_SIZE,  \n",
    "                      sagemaker_session=sagemaker_session)"
   ]
  },
  {
   "cell_type": "markdown",
   "id": "4c5c77d5-bc95-4e16-9a4d-13e215304f4b",
   "metadata": {},
   "source": [
    "#### Create the Data Wrangler Processing Step"
   ]
  },
  {
   "cell_type": "code",
   "execution_count": 16,
   "id": "1f892e18-7f94-4143-91e6-8da28f61e876",
   "metadata": {
    "tags": []
   },
   "outputs": [],
   "source": [
    "data_wrangler_step = ProcessingStep(name='DataWranglerProcessingStep', \n",
    "                                    processor=processor, \n",
    "                                    inputs=[flow_input] + data_sources, \n",
    "                                    outputs=[processing_job_output], \n",
    "                                    job_arguments=[f\"--refit-trained-params '{json.dumps(refit_trained_params)}'\"])"
   ]
  },
  {
   "cell_type": "markdown",
   "id": "53f76c46-e1a6-4e6f-a769-d3033ac72fcc",
   "metadata": {},
   "source": [
    "### 2. Create Autopilot Step"
   ]
  },
  {
   "cell_type": "code",
   "execution_count": 17,
   "id": "9a7b4827-0e8c-4489-ad9f-1ad0246311d3",
   "metadata": {
    "tags": []
   },
   "outputs": [],
   "source": [
    "TRAINING_INPUT_CONTENT_TYPE = 'text/csv;header=present'\n",
    "TARGET_ATTRIBUTE_NAME = 'loan_status'"
   ]
  },
  {
   "cell_type": "code",
   "execution_count": 18,
   "id": "a5e734e2-204b-40ca-a524-1f032854bfed",
   "metadata": {
    "tags": []
   },
   "outputs": [],
   "source": [
    "auto_ml = AutoML(role=ROLE, \n",
    "                 target_attribute_name=TARGET_ATTRIBUTE_NAME, \n",
    "                 sagemaker_session=pipeline_session, \n",
    "                 mode='ENSEMBLING')"
   ]
  },
  {
   "cell_type": "code",
   "execution_count": 19,
   "id": "edd204c0-2dcf-4655-a9fc-a15958b85869",
   "metadata": {
    "tags": []
   },
   "outputs": [
    {
     "data": {
      "text/plain": [
       "Join(on='/', values=[<sagemaker.workflow.properties.Properties object at 0x7f3addc825d0>, <sagemaker.workflow.properties.Properties object at 0x7f3addba7250>, '47d300b9-fca2-4799-a944-efbbddd827de/default'])"
      ]
     },
     "execution_count": 19,
     "metadata": {},
     "output_type": "execute_result"
    }
   ],
   "source": [
    "s3_input = Join(on='/', \n",
    "                values=[data_wrangler_step.properties.ProcessingOutputConfig.Outputs[PROCESSING_OUTPUT_NAME].S3Output.S3Uri,\n",
    "                        data_wrangler_step.properties.ProcessingJobName, \n",
    "                        f'{PROCESSING_OUTPUT_NAME.replace(\".\", \"/\")}'])\n",
    "s3_input"
   ]
  },
  {
   "cell_type": "code",
   "execution_count": 20,
   "id": "176e81f7-d46c-48e9-aead-1eb0134f9cfe",
   "metadata": {
    "tags": []
   },
   "outputs": [
    {
     "name": "stderr",
     "output_type": "stream",
     "text": [
      "/opt/conda/lib/python3.7/site-packages/sagemaker/workflow/pipeline_context.py:261: UserWarning: Running within a PipelineSession, there will be No Wait, No Logs, and No Job being started.\n",
      "  UserWarning,\n"
     ]
    }
   ],
   "source": [
    "train_args = auto_ml.fit(inputs=AutoMLInput(inputs=s3_input, \n",
    "                                            content_type=TRAINING_INPUT_CONTENT_TYPE, \n",
    "                                            target_attribute_name=TARGET_ATTRIBUTE_NAME))"
   ]
  },
  {
   "cell_type": "code",
   "execution_count": 21,
   "id": "2d3f8173-ff5f-4c80-9cba-fc51929e541d",
   "metadata": {
    "tags": []
   },
   "outputs": [],
   "source": [
    "automl_step = AutoMLStep(name='AutoMLStep', \n",
    "                         step_args=train_args)"
   ]
  },
  {
   "cell_type": "markdown",
   "id": "5e31b6f3-3320-4cfe-b21b-7c70db12068f",
   "metadata": {},
   "source": [
    "### 3. Model Creation Step"
   ]
  },
  {
   "cell_type": "code",
   "execution_count": 22,
   "id": "c2dca331-5d02-4dae-8e9c-b6a5f1b35ed7",
   "metadata": {
    "tags": []
   },
   "outputs": [],
   "source": [
    "INSTANCE_TYPE = 'ml.m5.xlarge'"
   ]
  },
  {
   "cell_type": "code",
   "execution_count": 23,
   "id": "a40fea0b-24a0-4cc6-92cb-ca054c9ad968",
   "metadata": {
    "tags": []
   },
   "outputs": [],
   "source": [
    "best_automl_model = automl_step.get_best_auto_ml_model(ROLE, \n",
    "                                                       sagemaker_session=pipeline_session)\n",
    "step_args_create_model = best_automl_model.create(instance_type=INSTANCE_TYPE)\n",
    "step_create_model = ModelStep(name='AutoML', step_args=step_args_create_model)"
   ]
  },
  {
   "cell_type": "markdown",
   "id": "f003985e-7d8e-4cfb-ad08-8576a21e1f51",
   "metadata": {},
   "source": [
    "### 4. Batch Scoring Step"
   ]
  },
  {
   "cell_type": "code",
   "execution_count": 24,
   "id": "87563d56-953d-48a6-ba0a-bfd0d3513ba0",
   "metadata": {
    "tags": []
   },
   "outputs": [],
   "source": [
    "INSTANCE_TYPE = 'ml.m5.xlarge'\n",
    "INSTANCE_COUNT = 2"
   ]
  },
  {
   "cell_type": "code",
   "execution_count": 25,
   "id": "85131c25-867a-4be3-a4d4-3235036ab637",
   "metadata": {
    "tags": []
   },
   "outputs": [],
   "source": [
    "HOLDOUT_S3_PATH = f's3://{BUCKET}/{PREFIX}/holdout.csv'\n",
    "TRUE_LABELS_S3_PATH = f's3://{BUCKET}/{PREFIX}/true_labels.csv'"
   ]
  },
  {
   "cell_type": "code",
   "execution_count": 26,
   "id": "47dc2383-c731-4266-9446-41bd9a82e2ff",
   "metadata": {
    "tags": []
   },
   "outputs": [],
   "source": [
    "transformer = Transformer(model_name=step_create_model.properties.ModelName, \n",
    "                          instance_count=INSTANCE_COUNT, \n",
    "                          instance_type=INSTANCE_TYPE, \n",
    "                          output_path=Join(on='/', values=['s3:/', BUCKET, PREFIX, 'transform']), \n",
    "                          sagemaker_session=pipeline_session)"
   ]
  },
  {
   "cell_type": "code",
   "execution_count": 27,
   "id": "527a71b8-d7a2-4be0-af78-eece6285d2c1",
   "metadata": {
    "tags": []
   },
   "outputs": [],
   "source": [
    "step_batch_transform = TransformStep(name='BatchTransformStep', \n",
    "                                     step_args=transformer.transform(data=HOLDOUT_S3_PATH, \n",
    "                                                                     content_type='text/csv'))"
   ]
  },
  {
   "cell_type": "markdown",
   "id": "b7a96cc5-b506-476c-82a7-cc547ccbaad3",
   "metadata": {},
   "source": [
    "### Evaluation Step"
   ]
  },
  {
   "cell_type": "code",
   "execution_count": 28,
   "id": "0e591407-e346-4b1d-b9ea-7a2a8344dcfc",
   "metadata": {
    "tags": []
   },
   "outputs": [],
   "source": [
    "evaluation_report = PropertyFile(name='evaluation', \n",
    "                                 output_name='evaluation_metrics', \n",
    "                                 path='evaluation_metrics.json')"
   ]
  },
  {
   "cell_type": "code",
   "execution_count": 29,
   "id": "c207252b-8e62-4e39-b960-84ded3b03cbe",
   "metadata": {
    "tags": []
   },
   "outputs": [
    {
     "name": "stderr",
     "output_type": "stream",
     "text": [
      "Defaulting to only available Python version: py3\n"
     ]
    }
   ],
   "source": [
    "sklearn_processor = SKLearnProcessor(role=ROLE, \n",
    "                                     framework_version='1.0-1', \n",
    "                                     instance_count=instance_count, \n",
    "                                     instance_type=instance_type.default_value, \n",
    "                                     sagemaker_session=pipeline_session)"
   ]
  },
  {
   "cell_type": "code",
   "execution_count": 30,
   "id": "d37b8dbf-7855-479d-9c38-a4410925e23b",
   "metadata": {
    "tags": []
   },
   "outputs": [],
   "source": [
    "step_args_sklearn_processor = sklearn_processor.run(\n",
    "    inputs=[\n",
    "        ProcessingInput(\n",
    "            source=step_batch_transform.properties.TransformOutput.S3OutputPath,\n",
    "            destination='/opt/ml/processing/input/predictions',\n",
    "        ),\n",
    "        ProcessingInput(source=TRUE_LABELS_S3_PATH, destination='/opt/ml/processing/input/true_labels'),\n",
    "    ],\n",
    "    outputs=[\n",
    "        ProcessingOutput(\n",
    "            output_name='evaluation_metrics',\n",
    "            source=\"/opt/ml/processing/evaluation\",\n",
    "            destination=Join(on='/', values=['s3:/', BUCKET, PREFIX, 'evaluation']),\n",
    "        ),\n",
    "    ],\n",
    "    code='evaluation.py')"
   ]
  },
  {
   "cell_type": "code",
   "execution_count": 31,
   "id": "4cfd0b6e-ce6c-4ea2-b08b-f8b624edb408",
   "metadata": {
    "tags": []
   },
   "outputs": [],
   "source": [
    "step_evaluation = ProcessingStep(name='ModelEvaluationStep', \n",
    "                                 step_args=step_args_sklearn_processor, \n",
    "                                 property_files=[evaluation_report])"
   ]
  },
  {
   "cell_type": "markdown",
   "id": "86fc9607-947c-4436-85ff-c182cd36cdd9",
   "metadata": {},
   "source": [
    "### Conditional Registration Step"
   ]
  },
  {
   "cell_type": "code",
   "execution_count": 32,
   "id": "b7021027-4a3f-41e3-985a-979c826b7482",
   "metadata": {
    "tags": []
   },
   "outputs": [],
   "source": [
    "model_metrics = ModelMetrics(\n",
    "    model_statistics=MetricsSource(\n",
    "        s3_uri=automl_step.properties.BestCandidateProperties.ModelInsightsJsonReportPath,\n",
    "        content_type='application/json'),\n",
    "    explainability=MetricsSource(\n",
    "        s3_uri=automl_step.properties.BestCandidateProperties.ExplainabilityJsonReportPath,\n",
    "        content_type='application/json'))"
   ]
  },
  {
   "cell_type": "code",
   "execution_count": 33,
   "id": "7fd71acb-a9ad-40bd-957f-63b6f2869f81",
   "metadata": {
    "tags": []
   },
   "outputs": [],
   "source": [
    "step_args_register_model = best_automl_model.register(content_types=['text/csv'], \n",
    "                                                      response_types=['text/csv'], \n",
    "                                                      inference_instances=[instance_type], \n",
    "                                                      transform_instances=[instance_type], \n",
    "                                                      model_package_group_name=model_package_group_name, \n",
    "                                                      approval_status=model_approval_status, \n",
    "                                                      model_metrics=model_metrics)"
   ]
  },
  {
   "cell_type": "code",
   "execution_count": 34,
   "id": "c1bb297f-b797-421d-ae27-de569b1a4b29",
   "metadata": {
    "tags": []
   },
   "outputs": [],
   "source": [
    "step_register_model = ModelStep(name='MeetsThreshold', \n",
    "                                step_args=step_args_register_model)"
   ]
  },
  {
   "cell_type": "code",
   "execution_count": 35,
   "id": "15412a28-1c93-4489-93a7-597f6e533bfe",
   "metadata": {
    "tags": []
   },
   "outputs": [],
   "source": [
    "step_conditional_registration = ConditionStep(name='ConditionalStep', \n",
    "                                              conditions=[ConditionGreaterThanOrEqualTo(\n",
    "                                                            left=JsonGet(\n",
    "                                                                step_name=step_evaluation.name,\n",
    "                                                                property_file=evaluation_report,\n",
    "                                                                json_path='classification_metrics.weighted_f1.value',\n",
    "                                                            ),\n",
    "                                                            right=model_registration_metric_threshold,\n",
    "                                              )],\n",
    "                                              if_steps=[step_register_model], \n",
    "                                              else_steps=[])"
   ]
  },
  {
   "cell_type": "markdown",
   "id": "b6d6cc99-01fa-4b17-8168-3123ef840cb1",
   "metadata": {},
   "source": [
    "### 4. Create SageMaker Pipeline"
   ]
  },
  {
   "cell_type": "markdown",
   "id": "0979a362-04cc-4d72-992f-0ffbb7b8f564",
   "metadata": {},
   "source": [
    "#### Create Pipeline"
   ]
  },
  {
   "cell_type": "code",
   "execution_count": 36,
   "id": "62a3b49f-ed0b-4f60-8061-32b389276187",
   "metadata": {
    "tags": []
   },
   "outputs": [],
   "source": [
    "pipeline_name = f'LowCodePipeline'"
   ]
  },
  {
   "cell_type": "code",
   "execution_count": 37,
   "id": "86987ffe-3668-44d1-bcd2-773fb9082773",
   "metadata": {
    "tags": []
   },
   "outputs": [],
   "source": [
    "pipeline_steps = [data_wrangler_step, automl_step, step_create_model, step_batch_transform, step_evaluation, step_conditional_registration]\n",
    "pipeline = Pipeline(name=pipeline_name, \n",
    "                    parameters=[instance_type, instance_count, model_registration_metric_threshold, model_approval_status,\n",
    "        model_package_group_name,], \n",
    "                    steps=pipeline_steps, \n",
    "                    sagemaker_session=sagemaker_session)"
   ]
  },
  {
   "cell_type": "markdown",
   "id": "b7bb4c44-f617-4c1e-be8a-831aa63e1bce",
   "metadata": {},
   "source": [
    "#### Examine Pipeline Definition"
   ]
  },
  {
   "cell_type": "code",
   "execution_count": 38,
   "id": "341dece9-892f-4e64-bec9-3cda178f4b1d",
   "metadata": {
    "tags": []
   },
   "outputs": [
    {
     "name": "stderr",
     "output_type": "stream",
     "text": [
      "Popping out 'CertifyForMarketplace' from the pipeline definition since it will be overridden in pipeline execution time.\n"
     ]
    },
    {
     "name": "stdout",
     "output_type": "stream",
     "text": [
      "\n",
      "Job Name:  sagemaker-scikit-learn-2022-12-22-15-32-19-686\n",
      "Inputs:  [{'InputName': 'input-1', 'AppManaged': False, 'S3Input': {'S3Uri': <sagemaker.workflow.properties.Properties object at 0x7f3addb9cb50>, 'LocalPath': '/opt/ml/processing/input/predictions', 'S3DataType': 'S3Prefix', 'S3InputMode': 'File', 'S3DataDistributionType': 'FullyReplicated', 'S3CompressionType': 'None'}}, {'InputName': 'input-2', 'AppManaged': False, 'S3Input': {'S3Uri': 's3://sagemaker-us-east-1-119174016168/01-dw-datasets/true_labels.csv', 'LocalPath': '/opt/ml/processing/input/true_labels', 'S3DataType': 'S3Prefix', 'S3InputMode': 'File', 'S3DataDistributionType': 'FullyReplicated', 'S3CompressionType': 'None'}}, {'InputName': 'code', 'AppManaged': False, 'S3Input': {'S3Uri': 's3://sagemaker-us-east-1-119174016168/LowCodePipeline/code/52e14e6bdb6691b4f3c5cdc0752c0e6a/evaluation.py', 'LocalPath': '/opt/ml/processing/input/code', 'S3DataType': 'S3Prefix', 'S3InputMode': 'File', 'S3DataDistributionType': 'FullyReplicated', 'S3CompressionType': 'None'}}]\n",
      "Outputs:  [{'OutputName': 'evaluation_metrics', 'AppManaged': False, 'S3Output': {'S3Uri': Join(on='/', values=['s3:/', 'sagemaker-us-east-1-119174016168', '01-dw-datasets', 'evaluation']), 'LocalPath': '/opt/ml/processing/evaluation', 'S3UploadMode': 'EndOfJob'}}]\n"
     ]
    },
    {
     "data": {
      "text/plain": [
       "{'Version': '2020-12-01',\n",
       " 'Metadata': {},\n",
       " 'Parameters': [{'Name': 'InstanceType',\n",
       "   'Type': 'String',\n",
       "   'DefaultValue': 'ml.m5.xlarge'},\n",
       "  {'Name': 'InstanceCount', 'Type': 'Integer', 'DefaultValue': 1},\n",
       "  {'Name': 'ModelRegistrationMetricThreshold',\n",
       "   'Type': 'Float',\n",
       "   'DefaultValue': 0.0},\n",
       "  {'Name': 'ModelApprovalStatus',\n",
       "   'Type': 'String',\n",
       "   'DefaultValue': 'Approved'},\n",
       "  {'Name': 'ModelPackageName',\n",
       "   'Type': 'String',\n",
       "   'DefaultValue': 'LowCodePipelineModels'}],\n",
       " 'PipelineExperimentConfig': {'ExperimentName': {'Get': 'Execution.PipelineName'},\n",
       "  'TrialName': {'Get': 'Execution.PipelineExecutionId'}},\n",
       " 'Steps': [{'Name': 'DataWranglerProcessingStep',\n",
       "   'Type': 'Processing',\n",
       "   'Arguments': {'ProcessingResources': {'ClusterConfig': {'InstanceType': 'ml.m5.4xlarge',\n",
       "      'InstanceCount': 2,\n",
       "      'VolumeSizeInGB': 30}},\n",
       "    'AppSpecification': {'ImageUri': '663277389841.dkr.ecr.us-east-1.amazonaws.com/sagemaker-data-wrangler-container:1.31.0',\n",
       "     'ContainerArguments': ['--refit-trained-params \\'{\"refit\": true, \"output_flow\": \"22-15-32-17-refitted-loans.flow\"}\\'']},\n",
       "    'RoleArn': 'arn:aws:iam::119174016168:role/service-role/AmazonSageMaker-ExecutionRole-20211014T093628',\n",
       "    'ProcessingInputs': [{'InputName': 'flow',\n",
       "      'AppManaged': False,\n",
       "      'S3Input': {'S3Uri': 's3://sagemaker-us-east-1-119174016168/01-dw-datasets/22-15-32-17-loans.flow',\n",
       "       'LocalPath': '/opt/ml/processing/flow',\n",
       "       'S3DataType': 'S3Prefix',\n",
       "       'S3InputMode': 'File',\n",
       "       'S3DataDistributionType': 'FullyReplicated',\n",
       "       'S3CompressionType': 'None'}},\n",
       "     {'InputName': 'loans.csv',\n",
       "      'AppManaged': False,\n",
       "      'S3Input': {'S3Uri': 's3://sagemaker-us-east-1-119174016168/01-dw-datasets/loans.csv',\n",
       "       'LocalPath': '/opt/ml/processing/loans.csv',\n",
       "       'S3DataType': 'S3Prefix',\n",
       "       'S3InputMode': 'File',\n",
       "       'S3DataDistributionType': 'FullyReplicated',\n",
       "       'S3CompressionType': 'None'}}],\n",
       "    'ProcessingOutputConfig': {'Outputs': [{'OutputName': '47d300b9-fca2-4799-a944-efbbddd827de.default',\n",
       "       'AppManaged': False,\n",
       "       'S3Output': {'S3Uri': 's3://sagemaker-us-east-1-119174016168/01-dw-datasets/22-15-32-17',\n",
       "        'LocalPath': '/opt/ml/processing/output',\n",
       "        'S3UploadMode': 'EndOfJob'}}]}}},\n",
       "  {'Name': 'AutoMLStep',\n",
       "   'Type': 'AutoML',\n",
       "   'Arguments': {'InputDataConfig': [{'DataSource': {'S3DataSource': {'S3DataType': 'S3Prefix',\n",
       "        'S3Uri': {'Std:Join': {'On': '/',\n",
       "          'Values': [{'Get': \"Steps.DataWranglerProcessingStep.ProcessingOutputConfig.Outputs['47d300b9-fca2-4799-a944-efbbddd827de.default'].S3Output.S3Uri\"},\n",
       "           {'Get': 'Steps.DataWranglerProcessingStep.ProcessingJobName'},\n",
       "           '47d300b9-fca2-4799-a944-efbbddd827de/default']}}}},\n",
       "      'TargetAttributeName': 'loan_status',\n",
       "      'ContentType': 'text/csv;header=present'}],\n",
       "    'OutputDataConfig': {'S3OutputPath': 's3://sagemaker-us-east-1-119174016168/'},\n",
       "    'AutoMLJobConfig': {'CompletionCriteria': {},\n",
       "     'SecurityConfig': {'EnableInterContainerTrafficEncryption': False},\n",
       "     'Mode': 'ENSEMBLING'},\n",
       "    'RoleArn': 'arn:aws:iam::119174016168:role/service-role/AmazonSageMaker-ExecutionRole-20211014T093628'}},\n",
       "  {'Name': 'AutoML-CreateModel',\n",
       "   'Type': 'Model',\n",
       "   'Arguments': {'ExecutionRoleArn': 'arn:aws:iam::119174016168:role/service-role/AmazonSageMaker-ExecutionRole-20211014T093628',\n",
       "    'PrimaryContainer': {'Image': {'Get': 'Steps.AutoMLStep.BestCandidate.InferenceContainers[0].Image'},\n",
       "     'Environment': {'MODEL_NAME': {'Get': \"Steps.AutoMLStep.BestCandidate.InferenceContainers[0].Environment['MODEL_NAME']\"},\n",
       "      'SAGEMAKER_DEFAULT_INVOCATIONS_ACCEPT': {'Get': \"Steps.AutoMLStep.BestCandidate.InferenceContainers[0].Environment['SAGEMAKER_DEFAULT_INVOCATIONS_ACCEPT']\"},\n",
       "      'SAGEMAKER_SUBMIT_DIRECTORY': {'Get': \"Steps.AutoMLStep.BestCandidate.InferenceContainers[0].Environment['SAGEMAKER_SUBMIT_DIRECTORY']\"},\n",
       "      'SAGEMAKER_INFERENCE_SUPPORTED': {'Get': \"Steps.AutoMLStep.BestCandidate.InferenceContainers[0].Environment['SAGEMAKER_INFERENCE_SUPPORTED']\"},\n",
       "      'SAGEMAKER_INFERENCE_OUTPUT': {'Get': \"Steps.AutoMLStep.BestCandidate.InferenceContainers[0].Environment['SAGEMAKER_INFERENCE_OUTPUT']\"},\n",
       "      'SAGEMAKER_PROGRAM': {'Get': \"Steps.AutoMLStep.BestCandidate.InferenceContainers[0].Environment['SAGEMAKER_PROGRAM']\"}},\n",
       "     'ModelDataUrl': {'Get': 'Steps.AutoMLStep.BestCandidate.InferenceContainers[0].ModelDataUrl'}}}},\n",
       "  {'Name': 'BatchTransformStep',\n",
       "   'Type': 'Transform',\n",
       "   'Arguments': {'ModelName': {'Get': 'Steps.AutoML-CreateModel.ModelName'},\n",
       "    'TransformInput': {'DataSource': {'S3DataSource': {'S3DataType': 'S3Prefix',\n",
       "       'S3Uri': 's3://sagemaker-us-east-1-119174016168/01-dw-datasets/holdout.csv'}},\n",
       "     'ContentType': 'text/csv'},\n",
       "    'TransformOutput': {'S3OutputPath': {'Std:Join': {'On': '/',\n",
       "       'Values': ['s3:/',\n",
       "        'sagemaker-us-east-1-119174016168',\n",
       "        '01-dw-datasets',\n",
       "        'transform']}}},\n",
       "    'TransformResources': {'InstanceCount': 2,\n",
       "     'InstanceType': 'ml.m5.xlarge'}}},\n",
       "  {'Name': 'ModelEvaluationStep',\n",
       "   'Type': 'Processing',\n",
       "   'Arguments': {'ProcessingResources': {'ClusterConfig': {'InstanceType': 'ml.m5.xlarge',\n",
       "      'InstanceCount': {'Get': 'Parameters.InstanceCount'},\n",
       "      'VolumeSizeInGB': 30}},\n",
       "    'AppSpecification': {'ImageUri': '683313688378.dkr.ecr.us-east-1.amazonaws.com/sagemaker-scikit-learn:1.0-1-cpu-py3',\n",
       "     'ContainerEntrypoint': ['python3',\n",
       "      '/opt/ml/processing/input/code/evaluation.py']},\n",
       "    'RoleArn': 'arn:aws:iam::119174016168:role/service-role/AmazonSageMaker-ExecutionRole-20211014T093628',\n",
       "    'ProcessingInputs': [{'InputName': 'input-1',\n",
       "      'AppManaged': False,\n",
       "      'S3Input': {'S3Uri': {'Get': 'Steps.BatchTransformStep.TransformOutput.S3OutputPath'},\n",
       "       'LocalPath': '/opt/ml/processing/input/predictions',\n",
       "       'S3DataType': 'S3Prefix',\n",
       "       'S3InputMode': 'File',\n",
       "       'S3DataDistributionType': 'FullyReplicated',\n",
       "       'S3CompressionType': 'None'}},\n",
       "     {'InputName': 'input-2',\n",
       "      'AppManaged': False,\n",
       "      'S3Input': {'S3Uri': 's3://sagemaker-us-east-1-119174016168/01-dw-datasets/true_labels.csv',\n",
       "       'LocalPath': '/opt/ml/processing/input/true_labels',\n",
       "       'S3DataType': 'S3Prefix',\n",
       "       'S3InputMode': 'File',\n",
       "       'S3DataDistributionType': 'FullyReplicated',\n",
       "       'S3CompressionType': 'None'}},\n",
       "     {'InputName': 'code',\n",
       "      'AppManaged': False,\n",
       "      'S3Input': {'S3Uri': 's3://sagemaker-us-east-1-119174016168/LowCodePipeline/code/52e14e6bdb6691b4f3c5cdc0752c0e6a/evaluation.py',\n",
       "       'LocalPath': '/opt/ml/processing/input/code',\n",
       "       'S3DataType': 'S3Prefix',\n",
       "       'S3InputMode': 'File',\n",
       "       'S3DataDistributionType': 'FullyReplicated',\n",
       "       'S3CompressionType': 'None'}}],\n",
       "    'ProcessingOutputConfig': {'Outputs': [{'OutputName': 'evaluation_metrics',\n",
       "       'AppManaged': False,\n",
       "       'S3Output': {'S3Uri': {'Std:Join': {'On': '/',\n",
       "          'Values': ['s3:/',\n",
       "           'sagemaker-us-east-1-119174016168',\n",
       "           '01-dw-datasets',\n",
       "           'evaluation']}},\n",
       "        'LocalPath': '/opt/ml/processing/evaluation',\n",
       "        'S3UploadMode': 'EndOfJob'}}]}},\n",
       "   'PropertyFiles': [{'PropertyFileName': 'evaluation',\n",
       "     'OutputName': 'evaluation_metrics',\n",
       "     'FilePath': 'evaluation_metrics.json'}]},\n",
       "  {'Name': 'ConditionalStep',\n",
       "   'Type': 'Condition',\n",
       "   'Arguments': {'Conditions': [{'Type': 'GreaterThanOrEqualTo',\n",
       "      'LeftValue': {'Std:JsonGet': {'PropertyFile': {'Get': 'Steps.ModelEvaluationStep.PropertyFiles.evaluation'},\n",
       "        'Path': 'classification_metrics.weighted_f1.value'}},\n",
       "      'RightValue': {'Get': 'Parameters.ModelRegistrationMetricThreshold'}}],\n",
       "    'IfSteps': [{'Name': 'MeetsThreshold-RegisterModel',\n",
       "      'Type': 'RegisterModel',\n",
       "      'Arguments': {'ModelPackageGroupName': {'Get': 'Parameters.ModelPackageName'},\n",
       "       'ModelMetrics': {'ModelQuality': {'Statistics': {'ContentType': 'application/json',\n",
       "          'S3Uri': {'Get': 'Steps.AutoMLStep.BestCandidateProperties.ModelInsightsJsonReportPath'}}},\n",
       "        'Bias': {},\n",
       "        'Explainability': {'Report': {'ContentType': 'application/json',\n",
       "          'S3Uri': {'Get': 'Steps.AutoMLStep.BestCandidateProperties.ExplainabilityJsonReportPath'}}}},\n",
       "       'InferenceSpecification': {'Containers': [{'Image': {'Get': 'Steps.AutoMLStep.BestCandidate.InferenceContainers[0].Image'},\n",
       "          'Environment': {'MODEL_NAME': {'Get': \"Steps.AutoMLStep.BestCandidate.InferenceContainers[0].Environment['MODEL_NAME']\"},\n",
       "           'SAGEMAKER_DEFAULT_INVOCATIONS_ACCEPT': {'Get': \"Steps.AutoMLStep.BestCandidate.InferenceContainers[0].Environment['SAGEMAKER_DEFAULT_INVOCATIONS_ACCEPT']\"},\n",
       "           'SAGEMAKER_SUBMIT_DIRECTORY': {'Get': \"Steps.AutoMLStep.BestCandidate.InferenceContainers[0].Environment['SAGEMAKER_SUBMIT_DIRECTORY']\"},\n",
       "           'SAGEMAKER_INFERENCE_SUPPORTED': {'Get': \"Steps.AutoMLStep.BestCandidate.InferenceContainers[0].Environment['SAGEMAKER_INFERENCE_SUPPORTED']\"},\n",
       "           'SAGEMAKER_INFERENCE_OUTPUT': {'Get': \"Steps.AutoMLStep.BestCandidate.InferenceContainers[0].Environment['SAGEMAKER_INFERENCE_OUTPUT']\"},\n",
       "           'SAGEMAKER_PROGRAM': {'Get': \"Steps.AutoMLStep.BestCandidate.InferenceContainers[0].Environment['SAGEMAKER_PROGRAM']\"}},\n",
       "          'ModelDataUrl': {'Get': 'Steps.AutoMLStep.BestCandidate.InferenceContainers[0].ModelDataUrl'}}],\n",
       "        'SupportedContentTypes': ['text/csv'],\n",
       "        'SupportedResponseMIMETypes': ['text/csv'],\n",
       "        'SupportedRealtimeInferenceInstanceTypes': [{'Get': 'Parameters.InstanceType'}],\n",
       "        'SupportedTransformInstanceTypes': [{'Get': 'Parameters.InstanceType'}]},\n",
       "       'ModelApprovalStatus': {'Get': 'Parameters.ModelApprovalStatus'}}}],\n",
       "    'ElseSteps': []}}]}"
      ]
     },
     "execution_count": 38,
     "metadata": {},
     "output_type": "execute_result"
    }
   ],
   "source": [
    "definition = json.loads(pipeline.definition())\n",
    "definition"
   ]
  },
  {
   "cell_type": "markdown",
   "id": "f5deb5ca-b393-4107-9f8d-cb702ad6e6f6",
   "metadata": {},
   "source": [
    "#### Start Pipeline Execution"
   ]
  },
  {
   "cell_type": "code",
   "execution_count": 39,
   "id": "b72bb379-4d9e-4efa-bffa-00d9f122f721",
   "metadata": {
    "tags": []
   },
   "outputs": [
    {
     "name": "stdout",
     "output_type": "stream",
     "text": [
      "\n",
      "Job Name:  sagemaker-scikit-learn-2022-12-22-15-32-20-127\n",
      "Inputs:  [{'InputName': 'input-1', 'AppManaged': False, 'S3Input': {'S3Uri': <sagemaker.workflow.properties.Properties object at 0x7f3addb9cb50>, 'LocalPath': '/opt/ml/processing/input/predictions', 'S3DataType': 'S3Prefix', 'S3InputMode': 'File', 'S3DataDistributionType': 'FullyReplicated', 'S3CompressionType': 'None'}}, {'InputName': 'input-2', 'AppManaged': False, 'S3Input': {'S3Uri': 's3://sagemaker-us-east-1-119174016168/01-dw-datasets/true_labels.csv', 'LocalPath': '/opt/ml/processing/input/true_labels', 'S3DataType': 'S3Prefix', 'S3InputMode': 'File', 'S3DataDistributionType': 'FullyReplicated', 'S3CompressionType': 'None'}}, {'InputName': 'code', 'AppManaged': False, 'S3Input': {'S3Uri': 's3://sagemaker-us-east-1-119174016168/LowCodePipeline/code/52e14e6bdb6691b4f3c5cdc0752c0e6a/evaluation.py', 'LocalPath': '/opt/ml/processing/input/code', 'S3DataType': 'S3Prefix', 'S3InputMode': 'File', 'S3DataDistributionType': 'FullyReplicated', 'S3CompressionType': 'None'}}]\n",
      "Outputs:  [{'OutputName': 'evaluation_metrics', 'AppManaged': False, 'S3Output': {'S3Uri': Join(on='/', values=['s3:/', 'sagemaker-us-east-1-119174016168', '01-dw-datasets', 'evaluation']), 'LocalPath': '/opt/ml/processing/evaluation', 'S3UploadMode': 'EndOfJob'}}]\n"
     ]
    },
    {
     "data": {
      "text/plain": [
       "{'PipelineArn': 'arn:aws:sagemaker:us-east-1:119174016168:pipeline/lowcodepipeline',\n",
       " 'ResponseMetadata': {'RequestId': '17bd1306-02c3-4361-9d75-ca675f4829a5',\n",
       "  'HTTPStatusCode': 200,\n",
       "  'HTTPHeaders': {'x-amzn-requestid': '17bd1306-02c3-4361-9d75-ca675f4829a5',\n",
       "   'content-type': 'application/x-amz-json-1.1',\n",
       "   'content-length': '83',\n",
       "   'date': 'Thu, 22 Dec 2022 15:32:20 GMT'},\n",
       "  'RetryAttempts': 0}}"
      ]
     },
     "execution_count": 39,
     "metadata": {},
     "output_type": "execute_result"
    }
   ],
   "source": [
    "pipeline.upsert(role_arn=ROLE)"
   ]
  },
  {
   "cell_type": "code",
   "execution_count": 40,
   "id": "2502988a-d8f3-4422-8eba-14af696c50ed",
   "metadata": {
    "tags": []
   },
   "outputs": [
    {
     "data": {
      "text/plain": [
       "_PipelineExecution(arn='arn:aws:sagemaker:us-east-1:119174016168:pipeline/lowcodepipeline/execution/zbu92oclw48b', sagemaker_session=<sagemaker.session.Session object at 0x7f3ae08521d0>)"
      ]
     },
     "execution_count": 40,
     "metadata": {},
     "output_type": "execute_result"
    }
   ],
   "source": [
    "pipeline.start()"
   ]
  }
 ],
 "metadata": {
  "forced_instance_type": "ml.t3.medium",
  "forced_lcc_arn": "",
  "instance_type": "ml.t3.medium",
  "kernelspec": {
   "display_name": "Python 3 (Data Science)",
   "language": "python",
   "name": "python3__SAGEMAKER_INTERNAL__arn:aws:sagemaker:us-east-1:081325390199:image/datascience-1.0"
  },
  "language_info": {
   "codemirror_mode": {
    "name": "ipython",
    "version": 3
   },
   "file_extension": ".py",
   "mimetype": "text/x-python",
   "name": "python",
   "nbconvert_exporter": "python",
   "pygments_lexer": "ipython3",
   "version": "3.7.10"
  }
 },
 "nbformat": 4,
 "nbformat_minor": 5
}
