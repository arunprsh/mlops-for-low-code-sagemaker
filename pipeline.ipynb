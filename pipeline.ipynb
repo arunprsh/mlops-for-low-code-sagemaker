{
 "cells": [
  {
   "cell_type": "markdown",
   "id": "60365581-6ba5-453a-9c9d-e326cf56e717",
   "metadata": {},
   "source": [
    "#### Prerequisites "
   ]
  },
  {
   "cell_type": "code",
   "execution_count": 2,
   "id": "587c982e-fc0b-4381-aa94-601338fe80b4",
   "metadata": {
    "tags": []
   },
   "outputs": [],
   "source": [
    "%%capture\n",
    "\n",
    "!pip install sagemaker==2.121.2\n",
    "!pip install boto3==1.26.27"
   ]
  },
  {
   "cell_type": "markdown",
   "id": "79fd62ad-59c1-4c82-aeb2-769ef00c3038",
   "metadata": {},
   "source": [
    "### Imports"
   ]
  },
  {
   "cell_type": "code",
   "execution_count": 3,
   "id": "a9700ac1-f47b-49cb-b306-7ce136d12074",
   "metadata": {
    "tags": []
   },
   "outputs": [],
   "source": [
    "from sagemaker.dataset_definition.inputs import AthenaDatasetDefinition, DatasetDefinition\n",
    "from sagemaker.workflow.parameters import ParameterInteger, ParameterString\n",
    "from sagemaker.processing import ProcessingInput, ProcessingOutput\n",
    "from sagemaker.workflow.pipeline_context import PipelineSession\n",
    "from sagemaker.workflow.automl_step import AutoMLStep\n",
    "from sagemaker.workflow.steps import ProcessingStep\n",
    "from sagemaker.workflow.pipeline import Pipeline\n",
    "from sagemaker.workflow.functions import Join\n",
    "from sagemaker.processing import Processor\n",
    "from sagemaker import AutoML, AutoMLInput\n",
    "import sagemaker\n",
    "import logging\n",
    "import boto3\n",
    "import json\n",
    "import time"
   ]
  },
  {
   "cell_type": "code",
   "execution_count": 4,
   "id": "52d1d647-5629-4bcb-bbf8-ce22aba43519",
   "metadata": {
    "tags": []
   },
   "outputs": [],
   "source": [
    "logger = logging.getLogger('sagemaker')\n",
    "logger.setLevel(logging.DEBUG)\n",
    "logger.addHandler(logging.StreamHandler())"
   ]
  },
  {
   "cell_type": "code",
   "execution_count": 5,
   "id": "87aa6386-ff4f-4378-8f30-823061d7014a",
   "metadata": {
    "tags": []
   },
   "outputs": [
    {
     "name": "stderr",
     "output_type": "stream",
     "text": [
      "Using SageMaker: 2.121.2\n",
      "Using Boto3: 1.26.27\n"
     ]
    }
   ],
   "source": [
    "logger.info(f'Using SageMaker: {sagemaker.__version__}')\n",
    "logger.info(f'Using Boto3: {boto3.__version__}')"
   ]
  },
  {
   "cell_type": "markdown",
   "id": "5545a06f-b8b1-4f68-812d-eb17f67496d0",
   "metadata": {},
   "source": [
    "### Essentials "
   ]
  },
  {
   "cell_type": "code",
   "execution_count": 6,
   "id": "d617e5fe-fcee-46cb-a897-074f860a8664",
   "metadata": {
    "tags": []
   },
   "outputs": [],
   "source": [
    "sagemaker_session = sagemaker.Session()\n",
    "s3_client = boto3.client('s3')"
   ]
  },
  {
   "cell_type": "code",
   "execution_count": 7,
   "id": "d1c7405f-2cbb-4944-a35a-635ce5d82d8b",
   "metadata": {
    "tags": []
   },
   "outputs": [
    {
     "data": {
      "text/plain": [
       "'21-18-54-00'"
      ]
     },
     "execution_count": 7,
     "metadata": {},
     "output_type": "execute_result"
    }
   ],
   "source": [
    "ROLE = sagemaker.get_execution_role()\n",
    "BUCKET = sagemaker_session.default_bucket()  # Can also be a custom S3 bucket\n",
    "PREFIX = '01-dw-datasets'\n",
    "PROCESSING_INPUT_PATH = f's3://{BUCKET}/{PREFIX}'\n",
    "PROCESSING_INPUT_NAME = 'loans.csv' #\n",
    "PROCESSING_OUTPUT_PATH = f's3://{BUCKET}/{PREFIX}' # Bucket and prefix can also be different from input\n",
    "NODE_ID = 'c80bb7e0-4bb6-404a-85b9-101887e4f8d1'\n",
    "PROCESSING_OUTPUT_NAME = f'{NODE_ID}.default'\n",
    "CURRENT_TIMESTAMP = time.strftime('%d-%H-%M-%S', time.gmtime())\n",
    "CURRENT_TIMESTAMP"
   ]
  },
  {
   "cell_type": "markdown",
   "id": "1fd5508c-9c24-4e4d-a400-26408f5bc865",
   "metadata": {},
   "source": [
    "### 1. Create Data Wrangler Processing Step"
   ]
  },
  {
   "cell_type": "markdown",
   "id": "266bec6c-da1c-4ee3-838f-93f6cc13592f",
   "metadata": {},
   "source": [
    "#### Processing Input and Output"
   ]
  },
  {
   "cell_type": "code",
   "execution_count": 8,
   "id": "d79542a2-1c33-4c35-a955-80fb829dc34e",
   "metadata": {
    "tags": []
   },
   "outputs": [],
   "source": [
    "data_sources = []\n",
    "processing_input = ProcessingInput(source=f'{PROCESSING_INPUT_PATH}/{PROCESSING_INPUT_NAME}', \n",
    "                                   destination=f'/opt/ml/processing/{PROCESSING_INPUT_NAME}', \n",
    "                                   input_name=PROCESSING_INPUT_NAME, \n",
    "                                   s3_data_type='S3Prefix', \n",
    "                                   s3_input_mode='File', \n",
    "                                   s3_data_distribution_type='FullyReplicated')\n",
    "data_sources.append(processing_input)"
   ]
  },
  {
   "cell_type": "code",
   "execution_count": 9,
   "id": "bc787bc7-0b94-4d09-bec6-957f12555a4e",
   "metadata": {
    "tags": []
   },
   "outputs": [],
   "source": [
    "processing_job_output = ProcessingOutput(source='/opt/ml/processing/output', \n",
    "                                         destination=f'{PROCESSING_OUTPUT_PATH}/{CURRENT_TIMESTAMP}',\n",
    "                                         output_name=PROCESSING_OUTPUT_NAME,\n",
    "                                         s3_upload_mode='EndOfJob')"
   ]
  },
  {
   "cell_type": "markdown",
   "id": "62d89f01-a439-472b-a786-ad877251b183",
   "metadata": {},
   "source": [
    "#### Upload original data flow to S3"
   ]
  },
  {
   "cell_type": "code",
   "execution_count": 10,
   "id": "c516db3e-4135-4b83-844e-c66cb03e8b45",
   "metadata": {
    "tags": []
   },
   "outputs": [
    {
     "data": {
      "text/plain": [
       "'s3://sagemaker-us-east-1-119174016168/01-dw-datasets/21-18-54-00-loans.flow'"
      ]
     },
     "execution_count": 10,
     "metadata": {},
     "output_type": "execute_result"
    }
   ],
   "source": [
    "FLOW_FILE_NAME = 'loans.flow'\n",
    "\n",
    "s3_client.upload_file(FLOW_FILE_NAME, \n",
    "                      BUCKET, \n",
    "                      f'{PREFIX}/{CURRENT_TIMESTAMP}-{FLOW_FILE_NAME}')\n",
    "\n",
    "FLOW_S3_URI = f's3://{BUCKET}/{PREFIX}/{CURRENT_TIMESTAMP}-{FLOW_FILE_NAME}'\n",
    "FLOW_S3_URI"
   ]
  },
  {
   "cell_type": "code",
   "execution_count": 11,
   "id": "0623005d-11b2-4027-b436-6dd74d4ff886",
   "metadata": {},
   "outputs": [],
   "source": [
    "flow_input = ProcessingInput(source=FLOW_S3_URI, \n",
    "                             destination='/opt/ml/processing/flow', \n",
    "                             input_name='flow', \n",
    "                             s3_data_type='S3Prefix', \n",
    "                             s3_input_mode='File', \n",
    "                             s3_data_distribution_type='FullyReplicated')"
   ]
  },
  {
   "cell_type": "markdown",
   "id": "2abdd919-09d9-42cd-874a-9cb0637f82ef",
   "metadata": {},
   "source": [
    "#### Data Wrangler config parameters"
   ]
  },
  {
   "cell_type": "code",
   "execution_count": 12,
   "id": "56064088-4615-4347-bb0b-23956ad7975c",
   "metadata": {
    "tags": []
   },
   "outputs": [],
   "source": [
    "PROCESSING_JOB_NAME = f'Data-Wrangler-Processing-job-{CURRENT_TIMESTAMP}'\n",
    "DW_PROCESSING_CONTAINER_URI = '663277389841.dkr.ecr.us-east-1.amazonaws.com/sagemaker-data-wrangler-container:1.31.0'\n",
    "INSTANCE_COUNT = 2\n",
    "INSTANCE_TYPE = 'ml.m5.4xlarge'\n",
    "EBS_VOLUME_SIZE = 30  # in GB\n",
    "OUTPUT_CONTENT_TYPE = 'CSV'"
   ]
  },
  {
   "cell_type": "code",
   "execution_count": 13,
   "id": "57648e15-b749-418e-b9c9-92cdd7c40d98",
   "metadata": {},
   "outputs": [],
   "source": [
    "refit_trained_params = {'refit': True, \n",
    "                        'output_flow': f'{CURRENT_TIMESTAMP}-refitted-{FLOW_FILE_NAME}'}"
   ]
  },
  {
   "cell_type": "markdown",
   "id": "a3af6141-5dd5-45dd-ab0c-845d52680732",
   "metadata": {},
   "source": [
    "#### Create a Processor"
   ]
  },
  {
   "cell_type": "code",
   "execution_count": 14,
   "id": "1b3840d2-3228-444d-a9ae-5ed88977f1b4",
   "metadata": {
    "tags": []
   },
   "outputs": [],
   "source": [
    "processor = Processor(base_job_name=PROCESSING_JOB_NAME,\n",
    "                      role=ROLE, \n",
    "                      image_uri=DW_PROCESSING_CONTAINER_URI, \n",
    "                      instance_count=INSTANCE_COUNT, \n",
    "                      instance_type=INSTANCE_TYPE, \n",
    "                      volume_size_in_gb=EBS_VOLUME_SIZE,  \n",
    "                      sagemaker_session=sagemaker_session)"
   ]
  },
  {
   "cell_type": "markdown",
   "id": "4c5c77d5-bc95-4e16-9a4d-13e215304f4b",
   "metadata": {},
   "source": [
    "#### Create the Data Wrangler Processing Step"
   ]
  },
  {
   "cell_type": "code",
   "execution_count": 15,
   "id": "1f892e18-7f94-4143-91e6-8da28f61e876",
   "metadata": {
    "tags": []
   },
   "outputs": [],
   "source": [
    "data_wrangler_step = ProcessingStep(name='DataWranglerProcessingStep', \n",
    "                                    processor=processor, \n",
    "                                    inputs=[flow_input] + data_sources, \n",
    "                                    outputs=[processing_job_output], \n",
    "                                    job_arguments=[f\"--refit-trained-params '{json.dumps(refit_trained_params)}'\"])"
   ]
  },
  {
   "cell_type": "markdown",
   "id": "53f76c46-e1a6-4e6f-a769-d3033ac72fcc",
   "metadata": {},
   "source": [
    "### 2. Create Autopilot Step"
   ]
  },
  {
   "cell_type": "code",
   "execution_count": 16,
   "id": "ba6ca37e-bbf3-4bdd-a516-93db3506a05d",
   "metadata": {},
   "outputs": [],
   "source": [
    "pipeline_session = PipelineSession()"
   ]
  },
  {
   "cell_type": "code",
   "execution_count": 17,
   "id": "9a7b4827-0e8c-4489-ad9f-1ad0246311d3",
   "metadata": {},
   "outputs": [],
   "source": [
    "TRAINING_INPUT_CONTENT_TYPE = 'text/csv;header=present'\n",
    "TARGET_ATTRIBUTE_NAME = 'loan_status'"
   ]
  },
  {
   "cell_type": "code",
   "execution_count": 18,
   "id": "a5e734e2-204b-40ca-a524-1f032854bfed",
   "metadata": {},
   "outputs": [],
   "source": [
    "auto_ml = AutoML(role=ROLE, \n",
    "                 target_attribute_name=TARGET_ATTRIBUTE_NAME, \n",
    "                 sagemaker_session=pipeline_session, \n",
    "                 mode='ENSEMBLING')"
   ]
  },
  {
   "cell_type": "code",
   "execution_count": 21,
   "id": "edd204c0-2dcf-4655-a9fc-a15958b85869",
   "metadata": {},
   "outputs": [
    {
     "data": {
      "text/plain": [
       "Join(on='/', values=[<sagemaker.workflow.properties.Properties object at 0x7f46564504d0>, <sagemaker.workflow.properties.Properties object at 0x7f4657a5d350>, 'c80bb7e0-4bb6-404a-85b9-101887e4f8d1/default'])"
      ]
     },
     "execution_count": 21,
     "metadata": {},
     "output_type": "execute_result"
    }
   ],
   "source": [
    "s3_input = Join(on='/', \n",
    "                values=[data_wrangler_step.properties.ProcessingOutputConfig.Outputs[PROCESSING_OUTPUT_NAME].S3Output.S3Uri,\n",
    "                        data_wrangler_step.properties.ProcessingJobName, \n",
    "                        f'{PROCESSING_OUTPUT_NAME.replace(\".\", \"/\")}'])\n",
    "s3_input"
   ]
  },
  {
   "cell_type": "code",
   "execution_count": 22,
   "id": "176e81f7-d46c-48e9-aead-1eb0134f9cfe",
   "metadata": {},
   "outputs": [
    {
     "name": "stderr",
     "output_type": "stream",
     "text": [
      "/opt/conda/lib/python3.7/site-packages/sagemaker/workflow/pipeline_context.py:261: UserWarning: Running within a PipelineSession, there will be No Wait, No Logs, and No Job being started.\n",
      "  UserWarning,\n"
     ]
    }
   ],
   "source": [
    "train_args = auto_ml.fit(inputs=AutoMLInput(inputs=s3_input, \n",
    "                                            content_type=TRAINING_INPUT_CONTENT_TYPE, \n",
    "                                            target_attribute_name=TARGET_ATTRIBUTE_NAME))"
   ]
  },
  {
   "cell_type": "code",
   "execution_count": 23,
   "id": "2d3f8173-ff5f-4c80-9cba-fc51929e541d",
   "metadata": {},
   "outputs": [],
   "source": [
    "training_step = AutoMLStep(name='DataWrangerAutoML', \n",
    "                           step_args=train_args)"
   ]
  },
  {
   "cell_type": "markdown",
   "id": "b6d6cc99-01fa-4b17-8168-3123ef840cb1",
   "metadata": {},
   "source": [
    "### 4. Create SageMaker Pipeline"
   ]
  },
  {
   "cell_type": "markdown",
   "id": "f664bb20-4edb-4d9e-9661-32f30cecd4fc",
   "metadata": {},
   "source": [
    "#### Define Pipeline Parameters"
   ]
  },
  {
   "cell_type": "code",
   "execution_count": 24,
   "id": "49a97c87-03b6-463e-9cdf-509025baa2ea",
   "metadata": {
    "tags": []
   },
   "outputs": [],
   "source": [
    "instance_type = ParameterString(name='InstanceType', default_value='ml.m5.4xlarge')\n",
    "instance_count = ParameterInteger(name='InstanceCount', default_value=2)"
   ]
  },
  {
   "cell_type": "markdown",
   "id": "0979a362-04cc-4d72-992f-0ffbb7b8f564",
   "metadata": {},
   "source": [
    "#### Create Pipeline"
   ]
  },
  {
   "cell_type": "code",
   "execution_count": 25,
   "id": "62a3b49f-ed0b-4f60-8061-32b389276187",
   "metadata": {
    "tags": []
   },
   "outputs": [],
   "source": [
    "pipeline_name = f'LowCodePipeline'"
   ]
  },
  {
   "cell_type": "code",
   "execution_count": 26,
   "id": "86987ffe-3668-44d1-bcd2-773fb9082773",
   "metadata": {
    "tags": []
   },
   "outputs": [],
   "source": [
    "pipeline_steps = [data_wrangler_step, training_step]\n",
    "pipeline = Pipeline(name=pipeline_name, \n",
    "                    parameters=[instance_type, instance_count], \n",
    "                    steps=pipeline_steps, \n",
    "                    sagemaker_session=sagemaker_session)"
   ]
  },
  {
   "cell_type": "markdown",
   "id": "b7bb4c44-f617-4c1e-be8a-831aa63e1bce",
   "metadata": {},
   "source": [
    "#### Examine Pipeline Definition"
   ]
  },
  {
   "cell_type": "code",
   "execution_count": 27,
   "id": "341dece9-892f-4e64-bec9-3cda178f4b1d",
   "metadata": {
    "tags": []
   },
   "outputs": [
    {
     "data": {
      "text/plain": [
       "{'Version': '2020-12-01',\n",
       " 'Metadata': {},\n",
       " 'Parameters': [{'Name': 'InstanceType',\n",
       "   'Type': 'String',\n",
       "   'DefaultValue': 'ml.m5.4xlarge'},\n",
       "  {'Name': 'InstanceCount', 'Type': 'Integer', 'DefaultValue': 2}],\n",
       " 'PipelineExperimentConfig': {'ExperimentName': {'Get': 'Execution.PipelineName'},\n",
       "  'TrialName': {'Get': 'Execution.PipelineExecutionId'}},\n",
       " 'Steps': [{'Name': 'DataWranglerProcessingStep',\n",
       "   'Type': 'Processing',\n",
       "   'Arguments': {'ProcessingResources': {'ClusterConfig': {'InstanceType': 'ml.m5.4xlarge',\n",
       "      'InstanceCount': 2,\n",
       "      'VolumeSizeInGB': 30}},\n",
       "    'AppSpecification': {'ImageUri': '663277389841.dkr.ecr.us-east-1.amazonaws.com/sagemaker-data-wrangler-container:1.31.0',\n",
       "     'ContainerArguments': ['--refit-trained-params \\'{\"refit\": true, \"output_flow\": \"21-18-54-00-refitted-loans.flow\"}\\'']},\n",
       "    'RoleArn': 'arn:aws:iam::119174016168:role/service-role/AmazonSageMaker-ExecutionRole-20211014T093628',\n",
       "    'ProcessingInputs': [{'InputName': 'flow',\n",
       "      'AppManaged': False,\n",
       "      'S3Input': {'S3Uri': 's3://sagemaker-us-east-1-119174016168/01-dw-datasets/21-18-54-00-loans.flow',\n",
       "       'LocalPath': '/opt/ml/processing/flow',\n",
       "       'S3DataType': 'S3Prefix',\n",
       "       'S3InputMode': 'File',\n",
       "       'S3DataDistributionType': 'FullyReplicated',\n",
       "       'S3CompressionType': 'None'}},\n",
       "     {'InputName': 'loans.csv',\n",
       "      'AppManaged': False,\n",
       "      'S3Input': {'S3Uri': 's3://sagemaker-us-east-1-119174016168/01-dw-datasets/loans.csv',\n",
       "       'LocalPath': '/opt/ml/processing/loans.csv',\n",
       "       'S3DataType': 'S3Prefix',\n",
       "       'S3InputMode': 'File',\n",
       "       'S3DataDistributionType': 'FullyReplicated',\n",
       "       'S3CompressionType': 'None'}}],\n",
       "    'ProcessingOutputConfig': {'Outputs': [{'OutputName': 'c80bb7e0-4bb6-404a-85b9-101887e4f8d1.default',\n",
       "       'AppManaged': False,\n",
       "       'S3Output': {'S3Uri': 's3://sagemaker-us-east-1-119174016168/01-dw-datasets/21-18-54-00',\n",
       "        'LocalPath': '/opt/ml/processing/output',\n",
       "        'S3UploadMode': 'EndOfJob'}}]}}},\n",
       "  {'Name': 'DataWrangerAutoML',\n",
       "   'Type': 'AutoML',\n",
       "   'Arguments': {'InputDataConfig': [{'DataSource': {'S3DataSource': {'S3DataType': 'S3Prefix',\n",
       "        'S3Uri': {'Std:Join': {'On': '/',\n",
       "          'Values': [{'Get': \"Steps.DataWranglerProcessingStep.ProcessingOutputConfig.Outputs['c80bb7e0-4bb6-404a-85b9-101887e4f8d1.default'].S3Output.S3Uri\"},\n",
       "           {'Get': 'Steps.DataWranglerProcessingStep.ProcessingJobName'},\n",
       "           'c80bb7e0-4bb6-404a-85b9-101887e4f8d1/default']}}}},\n",
       "      'TargetAttributeName': 'loan_status',\n",
       "      'ContentType': 'text/csv;header=present'}],\n",
       "    'OutputDataConfig': {'S3OutputPath': 's3://sagemaker-us-east-1-119174016168/'},\n",
       "    'AutoMLJobConfig': {'CompletionCriteria': {},\n",
       "     'SecurityConfig': {'EnableInterContainerTrafficEncryption': False},\n",
       "     'Mode': 'ENSEMBLING'},\n",
       "    'RoleArn': 'arn:aws:iam::119174016168:role/service-role/AmazonSageMaker-ExecutionRole-20211014T093628'}}]}"
      ]
     },
     "execution_count": 27,
     "metadata": {},
     "output_type": "execute_result"
    }
   ],
   "source": [
    "definition = json.loads(pipeline.definition())\n",
    "definition"
   ]
  },
  {
   "cell_type": "markdown",
   "id": "f5deb5ca-b393-4107-9f8d-cb702ad6e6f6",
   "metadata": {},
   "source": [
    "#### Start Pipeline Execution"
   ]
  },
  {
   "cell_type": "code",
   "execution_count": 28,
   "id": "b72bb379-4d9e-4efa-bffa-00d9f122f721",
   "metadata": {
    "tags": []
   },
   "outputs": [
    {
     "data": {
      "text/plain": [
       "{'PipelineArn': 'arn:aws:sagemaker:us-east-1:119174016168:pipeline/lowcodepipeline',\n",
       " 'ResponseMetadata': {'RequestId': 'dd49e428-e93d-4352-a17b-c215aa8500ff',\n",
       "  'HTTPStatusCode': 200,\n",
       "  'HTTPHeaders': {'x-amzn-requestid': 'dd49e428-e93d-4352-a17b-c215aa8500ff',\n",
       "   'content-type': 'application/x-amz-json-1.1',\n",
       "   'content-length': '83',\n",
       "   'date': 'Wed, 21 Dec 2022 18:55:23 GMT'},\n",
       "  'RetryAttempts': 0}}"
      ]
     },
     "execution_count": 28,
     "metadata": {},
     "output_type": "execute_result"
    }
   ],
   "source": [
    "pipeline.upsert(role_arn=ROLE)"
   ]
  },
  {
   "cell_type": "code",
   "execution_count": 29,
   "id": "2502988a-d8f3-4422-8eba-14af696c50ed",
   "metadata": {
    "tags": []
   },
   "outputs": [
    {
     "data": {
      "text/plain": [
       "_PipelineExecution(arn='arn:aws:sagemaker:us-east-1:119174016168:pipeline/lowcodepipeline/execution/r0e9roq33nuw', sagemaker_session=<sagemaker.session.Session object at 0x7f46599cff50>)"
      ]
     },
     "execution_count": 29,
     "metadata": {},
     "output_type": "execute_result"
    }
   ],
   "source": [
    "pipeline.start()"
   ]
  },
  {
   "cell_type": "code",
   "execution_count": null,
   "id": "ef73a9b8-7127-44a4-bf3b-6c70074f5ddf",
   "metadata": {},
   "outputs": [],
   "source": []
  }
 ],
 "metadata": {
  "forced_instance_type": "ml.t3.medium",
  "forced_lcc_arn": "",
  "instance_type": "ml.t3.medium",
  "kernelspec": {
   "display_name": "Python 3 (Data Science)",
   "language": "python",
   "name": "python3__SAGEMAKER_INTERNAL__arn:aws:sagemaker:us-east-1:081325390199:image/datascience-1.0"
  },
  "language_info": {
   "codemirror_mode": {
    "name": "ipython",
    "version": 3
   },
   "file_extension": ".py",
   "mimetype": "text/x-python",
   "name": "python",
   "nbconvert_exporter": "python",
   "pygments_lexer": "ipython3",
   "version": "3.7.10"
  }
 },
 "nbformat": 4,
 "nbformat_minor": 5
}
