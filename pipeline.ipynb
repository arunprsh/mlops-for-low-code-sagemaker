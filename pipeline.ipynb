{
 "cells": [
  {
   "cell_type": "markdown",
   "id": "60365581-6ba5-453a-9c9d-e326cf56e717",
   "metadata": {
    "tags": []
   },
   "source": [
    "## Create end-to-end low-code workflow using SageMaker Pipelines"
   ]
  },
  {
   "cell_type": "markdown",
   "id": "0f3f66d0-c92b-4e1d-806a-d4901c225f04",
   "metadata": {},
   "source": [
    "#### Prerequisites "
   ]
  },
  {
   "cell_type": "code",
   "execution_count": 2,
   "id": "587c982e-fc0b-4381-aa94-601338fe80b4",
   "metadata": {
    "tags": []
   },
   "outputs": [],
   "source": [
    "%%capture\n",
    "\n",
    "!pip install sagemaker==2.121.2\n",
    "!pip install boto3==1.26.27"
   ]
  },
  {
   "cell_type": "markdown",
   "id": "79fd62ad-59c1-4c82-aeb2-769ef00c3038",
   "metadata": {},
   "source": [
    "### Imports"
   ]
  },
  {
   "cell_type": "code",
   "execution_count": 51,
   "id": "a9700ac1-f47b-49cb-b306-7ce136d12074",
   "metadata": {
    "tags": []
   },
   "outputs": [],
   "source": [
    "from sagemaker.workflow.parameters import ParameterInteger, ParameterString, ParameterFloat\n",
    "from sagemaker.dataset_definition.inputs import AthenaDatasetDefinition, DatasetDefinition\n",
    "from sagemaker.processing import ProcessingInput, ProcessingOutput, Processor\n",
    "from sagemaker.workflow.conditions import ConditionGreaterThanOrEqualTo\n",
    "from sagemaker.workflow.steps import ProcessingStep, TransformStep\n",
    "from sagemaker import MetricsSource, ModelMetrics, ModelPackage\n",
    "from sagemaker.workflow.pipeline_context import PipelineSession\n",
    "from sagemaker.workflow.condition_step import ConditionStep\n",
    "from sagemaker.sklearn.processing import SKLearnProcessor\n",
    "from sagemaker.workflow.properties import PropertyFile\n",
    "from sagemaker.workflow.functions import Join, JsonGet\n",
    "from sagemaker.workflow.automl_step import AutoMLStep\n",
    "from sagemaker.workflow.model_step import ModelStep\n",
    "from sagemaker.workflow.pipeline import Pipeline\n",
    "from sagemaker.workflow.functions import Join\n",
    "from sagemaker.transformer import Transformer\n",
    "from sagemaker.pipeline import PipelineModel\n",
    "from sagemaker import AutoML, AutoMLInput\n",
    "from sagemaker.model import Model\n",
    "import sagemaker\n",
    "import logging\n",
    "import boto3\n",
    "import json\n",
    "import time\n",
    "import yaml"
   ]
  },
  {
   "cell_type": "code",
   "execution_count": 4,
   "id": "52d1d647-5629-4bcb-bbf8-ce22aba43519",
   "metadata": {
    "tags": []
   },
   "outputs": [],
   "source": [
    "logger = logging.getLogger('sagemaker')\n",
    "logger.setLevel(logging.DEBUG)\n",
    "logger.addHandler(logging.StreamHandler())"
   ]
  },
  {
   "cell_type": "code",
   "execution_count": 5,
   "id": "87aa6386-ff4f-4378-8f30-823061d7014a",
   "metadata": {
    "tags": []
   },
   "outputs": [
    {
     "name": "stderr",
     "output_type": "stream",
     "text": [
      "Using SageMaker: 2.121.2\n",
      "Using Boto3: 1.26.27\n"
     ]
    }
   ],
   "source": [
    "logger.info(f'Using SageMaker: {sagemaker.__version__}')\n",
    "logger.info(f'Using Boto3: {boto3.__version__}')"
   ]
  },
  {
   "cell_type": "markdown",
   "id": "a0cd2d76-2c7c-4863-9b27-f162c7d4ca0e",
   "metadata": {},
   "source": [
    "### Essentials "
   ]
  },
  {
   "cell_type": "code",
   "execution_count": null,
   "id": "a771be06-9965-4517-8923-46bff3b4945b",
   "metadata": {},
   "outputs": [],
   "source": [
    "current_timestamp = time.strftime('%d-%H-%M-%S', time.gmtime())\n",
    "sagemaker_session = sagemaker.Session()\n",
    "role = sagemaker.get_execution_role()\n",
    "pipeline_session = PipelineSession()\n",
    "s3_client = boto3.client('s3')"
   ]
  },
  {
   "cell_type": "markdown",
   "id": "d9cdace3-ea47-4d8d-a087-10d1d3683c85",
   "metadata": {},
   "source": [
    "### Load config.yml"
   ]
  },
  {
   "cell_type": "code",
   "execution_count": 77,
   "id": "fb1c3c10-40e1-4cd4-97be-70bef460043b",
   "metadata": {
    "tags": []
   },
   "outputs": [],
   "source": [
    "with open('./config/config.yml', 'r') as file_:\n",
    "    config = yaml.safe_load(file_)"
   ]
  },
  {
   "cell_type": "markdown",
   "id": "cb527816-573c-498d-b426-c07d1ec6de7c",
   "metadata": {},
   "source": [
    "### Define Pipeline Parameters "
   ]
  },
  {
   "cell_type": "code",
   "execution_count": 8,
   "id": "c3f268e7-2540-4a5f-85cd-10b9ea2a282e",
   "metadata": {
    "tags": []
   },
   "outputs": [],
   "source": [
    "instance_count = config['processing_step']['instance_count']\n",
    "instance_type = config['processing_step']['instance_type']\n",
    "dw_processing_instance_count = ParameterInteger(name='InstanceCount', default_value=instance_count)\n",
    "dw_processing_instance_type = ParameterString(name='InstanceType', default_value=instance_type)\n",
    "\n",
    "status = config['register_step']['model_approval_status']\n",
    "group_name = config['register_step']['model_package_group_name']\n",
    "threshold = config['register_step']['model_registration_metric_threshold']\n",
    "model_approval_status = ParameterString(name='ModelApprovalStatus', default_value=status)\n",
    "model_package_group_name = ParameterString(name='ModelPackageName', default_value=group_name)\n",
    "model_registration_metric_threshold = ParameterFloat(name='ModelRegistrationMetricThreshold', default_value=threshold)"
   ]
  },
  {
   "cell_type": "markdown",
   "id": "1fd5508c-9c24-4e4d-a400-26408f5bc865",
   "metadata": {},
   "source": [
    "### 1. Create Data Wrangler Processing Step"
   ]
  },
  {
   "cell_type": "code",
   "execution_count": null,
   "id": "e9edd2ae-a18f-49b2-b0ac-7e1f29f35b81",
   "metadata": {},
   "outputs": [],
   "source": [
    "bucket = config['processing_step']['bucket']\n",
    "input_folder = config['processing_step']['input_folder']\n",
    "output_folder = config['processing_step']['output_folder']\n",
    "input_name = config['processing_step']['input_name']\n",
    "node_id = config['processing_step']['node_id']\n",
    "output_name = f'{node_id}.default'\n",
    "input_path = f's3://{bucket}/{input_folder}'\n",
    "output_path = f's3://{bucket}/{output_folder}'\n",
    "flow_file_name = config['processing_step']['flow_file_name']\n",
    "metadata_folder = config['processing_step']['metadata_folder']\n",
    "container_uri = config['processing_step']['container_uri']\n",
    "ebs_volume_size = config['processing_step']['ebs_volume_size']\n",
    "output_content_type = config['processing_step']['output_content_type']\n",
    "is_refit = config['processing_step']['refit']"
   ]
  },
  {
   "cell_type": "markdown",
   "id": "266bec6c-da1c-4ee3-838f-93f6cc13592f",
   "metadata": {},
   "source": [
    "#### Processing Input and Output"
   ]
  },
  {
   "cell_type": "code",
   "execution_count": 9,
   "id": "d79542a2-1c33-4c35-a955-80fb829dc34e",
   "metadata": {
    "tags": []
   },
   "outputs": [],
   "source": [
    "data_sources = []\n",
    "processing_input = ProcessingInput(source=f'{input_path}/{input_name}', \n",
    "                                   destination=f'/opt/ml/processing/{input_name}', \n",
    "                                   input_name=input_name, \n",
    "                                   s3_data_type='S3Prefix', \n",
    "                                   s3_input_mode='File', \n",
    "                                   s3_data_distribution_type='FullyReplicated')\n",
    "data_sources.append(processing_input)"
   ]
  },
  {
   "cell_type": "code",
   "execution_count": 10,
   "id": "bc787bc7-0b94-4d09-bec6-957f12555a4e",
   "metadata": {
    "tags": []
   },
   "outputs": [],
   "source": [
    "processing_job_output = ProcessingOutput(source='/opt/ml/processing/output', \n",
    "                                         destination=f'{output_path}/{current_timestamp}',\n",
    "                                         output_name=output_name,\n",
    "                                         s3_upload_mode='EndOfJob')"
   ]
  },
  {
   "cell_type": "markdown",
   "id": "62d89f01-a439-472b-a786-ad877251b183",
   "metadata": {},
   "source": [
    "#### Upload original data flow to S3"
   ]
  },
  {
   "cell_type": "code",
   "execution_count": 11,
   "id": "c516db3e-4135-4b83-844e-c66cb03e8b45",
   "metadata": {
    "tags": []
   },
   "outputs": [
    {
     "data": {
      "text/plain": [
       "'s3://sagemaker-us-east-1-119174016168/01-dw-datasets/23-06-20-54-loans.flow'"
      ]
     },
     "execution_count": 11,
     "metadata": {},
     "output_type": "execute_result"
    }
   ],
   "source": [
    "s3_client.upload_file(flow_file_name, \n",
    "                      bucket, \n",
    "                      f'{metadata_folder}/{flow_file_name}-{current_timestamp}')\n",
    "flow_S3_uri = f's3://{bucket}/{metadata_folder}/{flow_file_name}-{current_timestamp}'\n",
    "flow_S3_uri"
   ]
  },
  {
   "cell_type": "code",
   "execution_count": 12,
   "id": "0623005d-11b2-4027-b436-6dd74d4ff886",
   "metadata": {
    "tags": []
   },
   "outputs": [],
   "source": [
    "flow_input = ProcessingInput(source=flow_S3_uri, \n",
    "                             destination='/opt/ml/processing/flow', \n",
    "                             input_name='flow', \n",
    "                             s3_data_type='S3Prefix', \n",
    "                             s3_input_mode='File', \n",
    "                             s3_data_distribution_type='FullyReplicated')"
   ]
  },
  {
   "cell_type": "code",
   "execution_count": 14,
   "id": "57648e15-b749-418e-b9c9-92cdd7c40d98",
   "metadata": {
    "tags": []
   },
   "outputs": [],
   "source": [
    "job_name = f'Data-Wrangler-Processing-job-{current_timestamp}'\n",
    "refit_trained_params = {'refit': is_refit, \n",
    "                        'output_flow': f'{flow_file_name}-refitted-{current_timestamp}'}"
   ]
  },
  {
   "cell_type": "markdown",
   "id": "a3af6141-5dd5-45dd-ab0c-845d52680732",
   "metadata": {},
   "source": [
    "#### Create a Processor"
   ]
  },
  {
   "cell_type": "code",
   "execution_count": 15,
   "id": "1b3840d2-3228-444d-a9ae-5ed88977f1b4",
   "metadata": {
    "tags": []
   },
   "outputs": [],
   "source": [
    "processor = Processor(base_job_name=job_name,\n",
    "                      role=role, \n",
    "                      image_uri=container_uri, \n",
    "                      instance_count=dw_processing_instance_count, \n",
    "                      instance_type=dw_processing_instance_type, \n",
    "                      volume_size_in_gb=ebs_volume_size,  \n",
    "                      sagemaker_session=sagemaker_session)"
   ]
  },
  {
   "cell_type": "markdown",
   "id": "4c5c77d5-bc95-4e16-9a4d-13e215304f4b",
   "metadata": {},
   "source": [
    "#### Create the Data Wrangler Processing Step"
   ]
  },
  {
   "cell_type": "code",
   "execution_count": 16,
   "id": "1f892e18-7f94-4143-91e6-8da28f61e876",
   "metadata": {
    "tags": []
   },
   "outputs": [],
   "source": [
    "data_wrangler_step = ProcessingStep(name='DataWranglerProcessingStep', \n",
    "                                    processor=processor, \n",
    "                                    inputs=[flow_input] + data_sources, \n",
    "                                    outputs=[processing_job_output], \n",
    "                                    job_arguments=[f\"--refit-trained-params '{json.dumps(refit_trained_params)}'\"])"
   ]
  },
  {
   "cell_type": "markdown",
   "id": "53f76c46-e1a6-4e6f-a769-d3033ac72fcc",
   "metadata": {},
   "source": [
    "### 2. Create Autopilot Step"
   ]
  },
  {
   "cell_type": "code",
   "execution_count": 17,
   "id": "9a7b4827-0e8c-4489-ad9f-1ad0246311d3",
   "metadata": {
    "tags": []
   },
   "outputs": [],
   "source": [
    "TRAINING_INPUT_CONTENT_TYPE = 'text/csv;header=present'\n",
    "TARGET_ATTRIBUTE_NAME = 'loan_status'"
   ]
  },
  {
   "cell_type": "code",
   "execution_count": 18,
   "id": "a5e734e2-204b-40ca-a524-1f032854bfed",
   "metadata": {
    "tags": []
   },
   "outputs": [],
   "source": [
    "auto_ml = AutoML(role=ROLE, \n",
    "                 target_attribute_name=TARGET_ATTRIBUTE_NAME, \n",
    "                 sagemaker_session=pipeline_session, \n",
    "                 mode='ENSEMBLING')"
   ]
  },
  {
   "cell_type": "code",
   "execution_count": 19,
   "id": "edd204c0-2dcf-4655-a9fc-a15958b85869",
   "metadata": {
    "tags": []
   },
   "outputs": [
    {
     "data": {
      "text/plain": [
       "Join(on='/', values=[<sagemaker.workflow.properties.Properties object at 0x7f0095830690>, <sagemaker.workflow.properties.Properties object at 0x7f00956d63d0>, '47d300b9-fca2-4799-a944-efbbddd827de/default'])"
      ]
     },
     "execution_count": 19,
     "metadata": {},
     "output_type": "execute_result"
    }
   ],
   "source": [
    "s3_input = Join(on='/', \n",
    "                values=[data_wrangler_step.properties.ProcessingOutputConfig.Outputs[PROCESSING_OUTPUT_NAME].S3Output.S3Uri,\n",
    "                        data_wrangler_step.properties.ProcessingJobName, \n",
    "                        f'{PROCESSING_OUTPUT_NAME.replace(\".\", \"/\")}'])\n",
    "s3_input"
   ]
  },
  {
   "cell_type": "code",
   "execution_count": 20,
   "id": "176e81f7-d46c-48e9-aead-1eb0134f9cfe",
   "metadata": {
    "tags": []
   },
   "outputs": [
    {
     "name": "stderr",
     "output_type": "stream",
     "text": [
      "/opt/conda/lib/python3.7/site-packages/sagemaker/workflow/pipeline_context.py:261: UserWarning: Running within a PipelineSession, there will be No Wait, No Logs, and No Job being started.\n",
      "  UserWarning,\n"
     ]
    }
   ],
   "source": [
    "train_args = auto_ml.fit(inputs=AutoMLInput(inputs=s3_input, \n",
    "                                            content_type=TRAINING_INPUT_CONTENT_TYPE, \n",
    "                                            target_attribute_name=TARGET_ATTRIBUTE_NAME))"
   ]
  },
  {
   "cell_type": "code",
   "execution_count": 21,
   "id": "2d3f8173-ff5f-4c80-9cba-fc51929e541d",
   "metadata": {
    "tags": []
   },
   "outputs": [],
   "source": [
    "automl_step = AutoMLStep(name='AutoMLStep', \n",
    "                         step_args=train_args)"
   ]
  },
  {
   "cell_type": "markdown",
   "id": "5e31b6f3-3320-4cfe-b21b-7c70db12068f",
   "metadata": {},
   "source": [
    "### 3. Inference Pipeline Model Creation Step"
   ]
  },
  {
   "cell_type": "code",
   "execution_count": 22,
   "id": "c2dca331-5d02-4dae-8e9c-b6a5f1b35ed7",
   "metadata": {
    "tags": []
   },
   "outputs": [],
   "source": [
    "INSTANCE_TYPE = 'ml.m5.xlarge'"
   ]
  },
  {
   "cell_type": "code",
   "execution_count": 23,
   "id": "a40fea0b-24a0-4cc6-92cb-ca054c9ad968",
   "metadata": {
    "tags": []
   },
   "outputs": [],
   "source": [
    "best_automl_model = automl_step.get_best_auto_ml_model(ROLE, \n",
    "                                                       sagemaker_session=pipeline_session)"
   ]
  },
  {
   "cell_type": "code",
   "execution_count": 24,
   "id": "7b674d8d-9e33-49ad-b6d1-eb0debf768c5",
   "metadata": {
    "tags": []
   },
   "outputs": [],
   "source": [
    "best_inference_container = {\n",
    "    'Image': best_automl_model.image_uri,\n",
    "    'ModelDataUrl': best_automl_model.model_data,\n",
    "    'Environment': best_automl_model.env\n",
    "}"
   ]
  },
  {
   "cell_type": "code",
   "execution_count": 25,
   "id": "19e4aac8-20b4-4722-baa8-5e555c36c905",
   "metadata": {
    "tags": []
   },
   "outputs": [],
   "source": [
    "inference_flow_uri = 's3://sagemaker-us-east-1-119174016168/data_wrangler_inference_flows/loans_2022-12-22-04-37-36.tar.gz'"
   ]
  },
  {
   "cell_type": "code",
   "execution_count": null,
   "id": "ded7f6b9-413f-4be5-a283-09a4650813b7",
   "metadata": {},
   "outputs": [],
   "source": []
  },
  {
   "cell_type": "code",
   "execution_count": 26,
   "id": "62b60a18-8d0f-448d-b7f3-6d3374fbed40",
   "metadata": {
    "tags": []
   },
   "outputs": [],
   "source": [
    "dw_container_uri = \"663277389841.dkr.ecr.us-east-1.amazonaws.com/sagemaker-data-wrangler-container:1.x\"\n",
    "algo_container_uri = best_automl_model.image_uri"
   ]
  },
  {
   "cell_type": "code",
   "execution_count": 27,
   "id": "04bf1b2f-0522-4c2c-b560-3e96f74bea59",
   "metadata": {
    "tags": []
   },
   "outputs": [],
   "source": [
    "algo_model_uri = best_automl_model.model_data"
   ]
  },
  {
   "cell_type": "code",
   "execution_count": 28,
   "id": "ce2869fe-6524-4280-a220-e4420806ddda",
   "metadata": {
    "tags": []
   },
   "outputs": [],
   "source": [
    "pipeline_models = []\n",
    "target_column_name = 'loan_status'\n",
    "data_wrangler_model_name = f\"DataWranglerInferencePipelineFlowModel-{CURRENT_TIMESTAMP}\""
   ]
  },
  {
   "cell_type": "code",
   "execution_count": 29,
   "id": "4c14c61e-da5a-46a3-968d-297d048cdd24",
   "metadata": {
    "tags": []
   },
   "outputs": [],
   "source": [
    "data_wrangler_model = Model(image_uri=dw_container_uri, \n",
    "                            model_data=inference_flow_uri, \n",
    "                            role=ROLE, \n",
    "                            name=data_wrangler_model_name, \n",
    "                            sagemaker_session=pipeline_session, \n",
    "                            env={\"INFERENCE_TARGET_COLUMN_NAME\": target_column_name})\n",
    "pipeline_models.append(data_wrangler_model)"
   ]
  },
  {
   "cell_type": "code",
   "execution_count": 30,
   "id": "64b96e26-d906-4575-b657-7d3aaa6131e7",
   "metadata": {
    "tags": []
   },
   "outputs": [],
   "source": [
    "algo_model_name = f\"DataWranglerInferencePipelineAlgoModel-{CURRENT_TIMESTAMP}\"\n",
    "algo_environment = best_inference_container[\"Environment\"]\n",
    "\n",
    "algo_model = Model(image_uri=algo_container_uri, \n",
    "                   model_data=algo_model_uri, \n",
    "                   role=ROLE, \n",
    "                   name=algo_model_name, \n",
    "                   sagemaker_session=pipeline_session, \n",
    "                   env=algo_environment)\n",
    "\n",
    "pipeline_models.append(algo_model)"
   ]
  },
  {
   "cell_type": "code",
   "execution_count": 31,
   "id": "7e8984b5-ade9-4423-87e7-e7a11f5b7da7",
   "metadata": {
    "tags": []
   },
   "outputs": [],
   "source": [
    "inference_pipeline_model_name = f\"DataWranglerInferencePipelineModel-{CURRENT_TIMESTAMP}\"\n",
    "\n",
    "inference_pipeline_model = PipelineModel(models=pipeline_models, \n",
    "                                         role=ROLE, \n",
    "                                         name=inference_pipeline_model_name, \n",
    "                                         sagemaker_session=pipeline_session)"
   ]
  },
  {
   "cell_type": "code",
   "execution_count": 32,
   "id": "8cae7fba-d1d2-486f-a6f1-750a75f80f07",
   "metadata": {
    "tags": []
   },
   "outputs": [],
   "source": [
    "step_args_create_model = inference_pipeline_model.create(instance_type=INSTANCE_TYPE)"
   ]
  },
  {
   "cell_type": "code",
   "execution_count": 33,
   "id": "a33251fb-c64d-4fb6-b0d1-f727937a6a26",
   "metadata": {
    "tags": []
   },
   "outputs": [
    {
     "data": {
      "text/plain": [
       "ModelStep(name='InferencePipeline', steps=[CreateModelStep(name='InferencePipeline-CreateModel', display_name=None, description=None, step_type=<StepTypeEnum.CREATE_MODEL: 'Model'>, depends_on=None)])"
      ]
     },
     "execution_count": 33,
     "metadata": {},
     "output_type": "execute_result"
    }
   ],
   "source": [
    "step_create_model = ModelStep(name='InferencePipeline', step_args=step_args_create_model)\n",
    "step_create_model"
   ]
  },
  {
   "cell_type": "markdown",
   "id": "f003985e-7d8e-4cfb-ad08-8576a21e1f51",
   "metadata": {},
   "source": [
    "### 4. Batch Scoring Step"
   ]
  },
  {
   "cell_type": "code",
   "execution_count": 34,
   "id": "87563d56-953d-48a6-ba0a-bfd0d3513ba0",
   "metadata": {
    "tags": []
   },
   "outputs": [],
   "source": [
    "INSTANCE_TYPE = 'ml.m5.xlarge'\n",
    "INSTANCE_COUNT = 2"
   ]
  },
  {
   "cell_type": "code",
   "execution_count": 35,
   "id": "85131c25-867a-4be3-a4d4-3235036ab637",
   "metadata": {
    "tags": []
   },
   "outputs": [],
   "source": [
    "HOLDOUT_S3_PATH = f's3://{BUCKET}/{PREFIX}/holdout.csv'\n",
    "TRUE_LABELS_S3_PATH = f's3://{BUCKET}/{PREFIX}/true_labels.csv'"
   ]
  },
  {
   "cell_type": "code",
   "execution_count": 36,
   "id": "47dc2383-c731-4266-9446-41bd9a82e2ff",
   "metadata": {
    "tags": []
   },
   "outputs": [],
   "source": [
    "transformer = Transformer(model_name=step_create_model.properties.ModelName, \n",
    "                          instance_count=INSTANCE_COUNT, \n",
    "                          instance_type=INSTANCE_TYPE, \n",
    "                          output_path=Join(on='/', values=['s3:/', BUCKET, PREFIX, 'transform']), \n",
    "                          sagemaker_session=pipeline_session)"
   ]
  },
  {
   "cell_type": "code",
   "execution_count": 37,
   "id": "527a71b8-d7a2-4be0-af78-eece6285d2c1",
   "metadata": {
    "tags": []
   },
   "outputs": [],
   "source": [
    "step_batch_transform = TransformStep(name='BatchTransformStep', \n",
    "                                     step_args=transformer.transform(data=HOLDOUT_S3_PATH, \n",
    "                                                                     content_type='text/csv'))"
   ]
  },
  {
   "cell_type": "markdown",
   "id": "b7a96cc5-b506-476c-82a7-cc547ccbaad3",
   "metadata": {},
   "source": [
    "### Evaluation Step"
   ]
  },
  {
   "cell_type": "code",
   "execution_count": 38,
   "id": "0e591407-e346-4b1d-b9ea-7a2a8344dcfc",
   "metadata": {
    "tags": []
   },
   "outputs": [],
   "source": [
    "evaluation_report = PropertyFile(name='evaluation', \n",
    "                                 output_name='evaluation_metrics', \n",
    "                                 path='evaluation_metrics.json')"
   ]
  },
  {
   "cell_type": "code",
   "execution_count": 39,
   "id": "c207252b-8e62-4e39-b960-84ded3b03cbe",
   "metadata": {
    "tags": []
   },
   "outputs": [
    {
     "name": "stderr",
     "output_type": "stream",
     "text": [
      "Defaulting to only available Python version: py3\n"
     ]
    }
   ],
   "source": [
    "sklearn_processor = SKLearnProcessor(role=ROLE, \n",
    "                                     framework_version='1.0-1', \n",
    "                                     instance_count=instance_count, \n",
    "                                     instance_type=instance_type.default_value, \n",
    "                                     sagemaker_session=pipeline_session)"
   ]
  },
  {
   "cell_type": "code",
   "execution_count": 40,
   "id": "d37b8dbf-7855-479d-9c38-a4410925e23b",
   "metadata": {
    "tags": []
   },
   "outputs": [],
   "source": [
    "step_args_sklearn_processor = sklearn_processor.run(\n",
    "    inputs=[\n",
    "        ProcessingInput(\n",
    "            source=step_batch_transform.properties.TransformOutput.S3OutputPath,\n",
    "            destination='/opt/ml/processing/input/predictions',\n",
    "        ),\n",
    "        ProcessingInput(source=TRUE_LABELS_S3_PATH, destination='/opt/ml/processing/input/true_labels'),\n",
    "    ],\n",
    "    outputs=[\n",
    "        ProcessingOutput(\n",
    "            output_name='evaluation_metrics',\n",
    "            source=\"/opt/ml/processing/evaluation\",\n",
    "            destination=Join(on='/', values=['s3:/', BUCKET, PREFIX, 'evaluation']),\n",
    "        ),\n",
    "    ],\n",
    "    code='evaluation.py')"
   ]
  },
  {
   "cell_type": "code",
   "execution_count": 41,
   "id": "4cfd0b6e-ce6c-4ea2-b08b-f8b624edb408",
   "metadata": {
    "tags": []
   },
   "outputs": [],
   "source": [
    "step_evaluation = ProcessingStep(name='ModelEvaluationStep', \n",
    "                                 step_args=step_args_sklearn_processor, \n",
    "                                 property_files=[evaluation_report])"
   ]
  },
  {
   "cell_type": "markdown",
   "id": "86fc9607-947c-4436-85ff-c182cd36cdd9",
   "metadata": {},
   "source": [
    "### Conditional Registration Step"
   ]
  },
  {
   "cell_type": "code",
   "execution_count": 42,
   "id": "b7021027-4a3f-41e3-985a-979c826b7482",
   "metadata": {
    "tags": []
   },
   "outputs": [],
   "source": [
    "model_metrics = ModelMetrics(\n",
    "    model_statistics=MetricsSource(\n",
    "        s3_uri=automl_step.properties.BestCandidateProperties.ModelInsightsJsonReportPath,\n",
    "        content_type='application/json'),\n",
    "    explainability=MetricsSource(\n",
    "        s3_uri=automl_step.properties.BestCandidateProperties.ExplainabilityJsonReportPath,\n",
    "        content_type='application/json'))"
   ]
  },
  {
   "cell_type": "code",
   "execution_count": 43,
   "id": "7fd71acb-a9ad-40bd-957f-63b6f2869f81",
   "metadata": {
    "tags": []
   },
   "outputs": [],
   "source": [
    "step_args_register_model = inference_pipeline_model.register(content_types=['text/csv'], \n",
    "                                                      response_types=['text/csv'], \n",
    "                                                      inference_instances=[instance_type], \n",
    "                                                      transform_instances=[instance_type], \n",
    "                                                      model_package_group_name=model_package_group_name, \n",
    "                                                      approval_status=model_approval_status, \n",
    "                                                      model_metrics=model_metrics)"
   ]
  },
  {
   "cell_type": "code",
   "execution_count": 44,
   "id": "c1bb297f-b797-421d-ae27-de569b1a4b29",
   "metadata": {
    "tags": []
   },
   "outputs": [],
   "source": [
    "step_register_model = ModelStep(name='MeetsThreshold', \n",
    "                                step_args=step_args_register_model)"
   ]
  },
  {
   "cell_type": "code",
   "execution_count": 45,
   "id": "15412a28-1c93-4489-93a7-597f6e533bfe",
   "metadata": {
    "tags": []
   },
   "outputs": [],
   "source": [
    "step_conditional_registration = ConditionStep(name='ConditionalStep', \n",
    "                                              conditions=[ConditionGreaterThanOrEqualTo(\n",
    "                                                            left=JsonGet(\n",
    "                                                                step_name=step_evaluation.name,\n",
    "                                                                property_file=evaluation_report,\n",
    "                                                                json_path='classification_metrics.weighted_f1.value',\n",
    "                                                            ),\n",
    "                                                            right=model_registration_metric_threshold,\n",
    "                                              )],\n",
    "                                              if_steps=[step_register_model], \n",
    "                                              else_steps=[])"
   ]
  },
  {
   "cell_type": "markdown",
   "id": "b6d6cc99-01fa-4b17-8168-3123ef840cb1",
   "metadata": {},
   "source": [
    "### 4. Create SageMaker Pipeline"
   ]
  },
  {
   "cell_type": "markdown",
   "id": "0979a362-04cc-4d72-992f-0ffbb7b8f564",
   "metadata": {},
   "source": [
    "#### Create Pipeline"
   ]
  },
  {
   "cell_type": "code",
   "execution_count": 46,
   "id": "62a3b49f-ed0b-4f60-8061-32b389276187",
   "metadata": {
    "tags": []
   },
   "outputs": [],
   "source": [
    "pipeline_name = f'LowCodePipeline'"
   ]
  },
  {
   "cell_type": "code",
   "execution_count": 47,
   "id": "86987ffe-3668-44d1-bcd2-773fb9082773",
   "metadata": {
    "tags": []
   },
   "outputs": [],
   "source": [
    "pipeline_steps = [data_wrangler_step, automl_step, step_create_model, step_batch_transform, step_evaluation, step_conditional_registration]\n",
    "pipeline = Pipeline(name=pipeline_name, \n",
    "                    parameters=[instance_type, instance_count, model_registration_metric_threshold, model_approval_status,\n",
    "        model_package_group_name,], \n",
    "                    steps=pipeline_steps, \n",
    "                    sagemaker_session=sagemaker_session)"
   ]
  },
  {
   "cell_type": "markdown",
   "id": "b7bb4c44-f617-4c1e-be8a-831aa63e1bce",
   "metadata": {},
   "source": [
    "#### Examine Pipeline Definition"
   ]
  },
  {
   "cell_type": "code",
   "execution_count": 48,
   "id": "341dece9-892f-4e64-bec9-3cda178f4b1d",
   "metadata": {
    "tags": []
   },
   "outputs": [
    {
     "name": "stderr",
     "output_type": "stream",
     "text": [
      "Popping out 'CertifyForMarketplace' from the pipeline definition since it will be overridden in pipeline execution time.\n"
     ]
    },
    {
     "name": "stdout",
     "output_type": "stream",
     "text": [
      "\n",
      "Job Name:  sagemaker-scikit-learn-2022-12-23-06-20-57-466\n",
      "Inputs:  [{'InputName': 'input-1', 'AppManaged': False, 'S3Input': {'S3Uri': <sagemaker.workflow.properties.Properties object at 0x7f009420f790>, 'LocalPath': '/opt/ml/processing/input/predictions', 'S3DataType': 'S3Prefix', 'S3InputMode': 'File', 'S3DataDistributionType': 'FullyReplicated', 'S3CompressionType': 'None'}}, {'InputName': 'input-2', 'AppManaged': False, 'S3Input': {'S3Uri': 's3://sagemaker-us-east-1-119174016168/01-dw-datasets/true_labels.csv', 'LocalPath': '/opt/ml/processing/input/true_labels', 'S3DataType': 'S3Prefix', 'S3InputMode': 'File', 'S3DataDistributionType': 'FullyReplicated', 'S3CompressionType': 'None'}}, {'InputName': 'code', 'AppManaged': False, 'S3Input': {'S3Uri': 's3://sagemaker-us-east-1-119174016168/LowCodePipeline/code/52e14e6bdb6691b4f3c5cdc0752c0e6a/evaluation.py', 'LocalPath': '/opt/ml/processing/input/code', 'S3DataType': 'S3Prefix', 'S3InputMode': 'File', 'S3DataDistributionType': 'FullyReplicated', 'S3CompressionType': 'None'}}]\n",
      "Outputs:  [{'OutputName': 'evaluation_metrics', 'AppManaged': False, 'S3Output': {'S3Uri': Join(on='/', values=['s3:/', 'sagemaker-us-east-1-119174016168', '01-dw-datasets', 'evaluation']), 'LocalPath': '/opt/ml/processing/evaluation', 'S3UploadMode': 'EndOfJob'}}]\n"
     ]
    },
    {
     "data": {
      "text/plain": [
       "{'Version': '2020-12-01',\n",
       " 'Metadata': {},\n",
       " 'Parameters': [{'Name': 'InstanceType',\n",
       "   'Type': 'String',\n",
       "   'DefaultValue': 'ml.m5.xlarge'},\n",
       "  {'Name': 'InstanceCount', 'Type': 'Integer', 'DefaultValue': 1},\n",
       "  {'Name': 'ModelRegistrationMetricThreshold',\n",
       "   'Type': 'Float',\n",
       "   'DefaultValue': 0.0},\n",
       "  {'Name': 'ModelApprovalStatus',\n",
       "   'Type': 'String',\n",
       "   'DefaultValue': 'Approved'},\n",
       "  {'Name': 'ModelPackageName',\n",
       "   'Type': 'String',\n",
       "   'DefaultValue': 'LowCodePipelineModels'}],\n",
       " 'PipelineExperimentConfig': {'ExperimentName': {'Get': 'Execution.PipelineName'},\n",
       "  'TrialName': {'Get': 'Execution.PipelineExecutionId'}},\n",
       " 'Steps': [{'Name': 'DataWranglerProcessingStep',\n",
       "   'Type': 'Processing',\n",
       "   'Arguments': {'ProcessingResources': {'ClusterConfig': {'InstanceType': 'ml.m5.4xlarge',\n",
       "      'InstanceCount': 2,\n",
       "      'VolumeSizeInGB': 30}},\n",
       "    'AppSpecification': {'ImageUri': '663277389841.dkr.ecr.us-east-1.amazonaws.com/sagemaker-data-wrangler-container:1.31.0',\n",
       "     'ContainerArguments': ['--refit-trained-params \\'{\"refit\": true, \"output_flow\": \"23-06-20-54-refitted-loans.flow\"}\\'']},\n",
       "    'RoleArn': 'arn:aws:iam::119174016168:role/service-role/AmazonSageMaker-ExecutionRole-20211014T093628',\n",
       "    'ProcessingInputs': [{'InputName': 'flow',\n",
       "      'AppManaged': False,\n",
       "      'S3Input': {'S3Uri': 's3://sagemaker-us-east-1-119174016168/01-dw-datasets/23-06-20-54-loans.flow',\n",
       "       'LocalPath': '/opt/ml/processing/flow',\n",
       "       'S3DataType': 'S3Prefix',\n",
       "       'S3InputMode': 'File',\n",
       "       'S3DataDistributionType': 'FullyReplicated',\n",
       "       'S3CompressionType': 'None'}},\n",
       "     {'InputName': 'loans.csv',\n",
       "      'AppManaged': False,\n",
       "      'S3Input': {'S3Uri': 's3://sagemaker-us-east-1-119174016168/01-dw-datasets/loans.csv',\n",
       "       'LocalPath': '/opt/ml/processing/loans.csv',\n",
       "       'S3DataType': 'S3Prefix',\n",
       "       'S3InputMode': 'File',\n",
       "       'S3DataDistributionType': 'FullyReplicated',\n",
       "       'S3CompressionType': 'None'}}],\n",
       "    'ProcessingOutputConfig': {'Outputs': [{'OutputName': '47d300b9-fca2-4799-a944-efbbddd827de.default',\n",
       "       'AppManaged': False,\n",
       "       'S3Output': {'S3Uri': 's3://sagemaker-us-east-1-119174016168/01-dw-datasets/23-06-20-54',\n",
       "        'LocalPath': '/opt/ml/processing/output',\n",
       "        'S3UploadMode': 'EndOfJob'}}]}}},\n",
       "  {'Name': 'AutoMLStep',\n",
       "   'Type': 'AutoML',\n",
       "   'Arguments': {'InputDataConfig': [{'DataSource': {'S3DataSource': {'S3DataType': 'S3Prefix',\n",
       "        'S3Uri': {'Std:Join': {'On': '/',\n",
       "          'Values': [{'Get': \"Steps.DataWranglerProcessingStep.ProcessingOutputConfig.Outputs['47d300b9-fca2-4799-a944-efbbddd827de.default'].S3Output.S3Uri\"},\n",
       "           {'Get': 'Steps.DataWranglerProcessingStep.ProcessingJobName'},\n",
       "           '47d300b9-fca2-4799-a944-efbbddd827de/default']}}}},\n",
       "      'TargetAttributeName': 'loan_status',\n",
       "      'ContentType': 'text/csv;header=present'}],\n",
       "    'OutputDataConfig': {'S3OutputPath': 's3://sagemaker-us-east-1-119174016168/'},\n",
       "    'AutoMLJobConfig': {'CompletionCriteria': {},\n",
       "     'SecurityConfig': {'EnableInterContainerTrafficEncryption': False},\n",
       "     'Mode': 'ENSEMBLING'},\n",
       "    'RoleArn': 'arn:aws:iam::119174016168:role/service-role/AmazonSageMaker-ExecutionRole-20211014T093628'}},\n",
       "  {'Name': 'InferencePipeline-CreateModel',\n",
       "   'Type': 'Model',\n",
       "   'Arguments': {'ExecutionRoleArn': 'arn:aws:iam::119174016168:role/service-role/AmazonSageMaker-ExecutionRole-20211014T093628',\n",
       "    'Containers': [{'Image': '663277389841.dkr.ecr.us-east-1.amazonaws.com/sagemaker-data-wrangler-container:1.x',\n",
       "      'Environment': {'INFERENCE_TARGET_COLUMN_NAME': 'loan_status'},\n",
       "      'ModelDataUrl': 's3://sagemaker-us-east-1-119174016168/data_wrangler_inference_flows/loans_2022-12-22-04-37-36.tar.gz'},\n",
       "     {'Image': {'Get': 'Steps.AutoMLStep.BestCandidate.InferenceContainers[0].Image'},\n",
       "      'Environment': {'MODEL_NAME': {'Get': \"Steps.AutoMLStep.BestCandidate.InferenceContainers[0].Environment['MODEL_NAME']\"},\n",
       "       'SAGEMAKER_DEFAULT_INVOCATIONS_ACCEPT': {'Get': \"Steps.AutoMLStep.BestCandidate.InferenceContainers[0].Environment['SAGEMAKER_DEFAULT_INVOCATIONS_ACCEPT']\"},\n",
       "       'SAGEMAKER_SUBMIT_DIRECTORY': {'Get': \"Steps.AutoMLStep.BestCandidate.InferenceContainers[0].Environment['SAGEMAKER_SUBMIT_DIRECTORY']\"},\n",
       "       'SAGEMAKER_INFERENCE_SUPPORTED': {'Get': \"Steps.AutoMLStep.BestCandidate.InferenceContainers[0].Environment['SAGEMAKER_INFERENCE_SUPPORTED']\"},\n",
       "       'SAGEMAKER_INFERENCE_OUTPUT': {'Get': \"Steps.AutoMLStep.BestCandidate.InferenceContainers[0].Environment['SAGEMAKER_INFERENCE_OUTPUT']\"},\n",
       "       'SAGEMAKER_PROGRAM': {'Get': \"Steps.AutoMLStep.BestCandidate.InferenceContainers[0].Environment['SAGEMAKER_PROGRAM']\"}},\n",
       "      'ModelDataUrl': {'Get': 'Steps.AutoMLStep.BestCandidate.InferenceContainers[0].ModelDataUrl'}}]}},\n",
       "  {'Name': 'BatchTransformStep',\n",
       "   'Type': 'Transform',\n",
       "   'Arguments': {'ModelName': {'Get': 'Steps.InferencePipeline-CreateModel.ModelName'},\n",
       "    'TransformInput': {'DataSource': {'S3DataSource': {'S3DataType': 'S3Prefix',\n",
       "       'S3Uri': 's3://sagemaker-us-east-1-119174016168/01-dw-datasets/holdout.csv'}},\n",
       "     'ContentType': 'text/csv'},\n",
       "    'TransformOutput': {'S3OutputPath': {'Std:Join': {'On': '/',\n",
       "       'Values': ['s3:/',\n",
       "        'sagemaker-us-east-1-119174016168',\n",
       "        '01-dw-datasets',\n",
       "        'transform']}}},\n",
       "    'TransformResources': {'InstanceCount': 2,\n",
       "     'InstanceType': 'ml.m5.xlarge'}}},\n",
       "  {'Name': 'ModelEvaluationStep',\n",
       "   'Type': 'Processing',\n",
       "   'Arguments': {'ProcessingResources': {'ClusterConfig': {'InstanceType': 'ml.m5.xlarge',\n",
       "      'InstanceCount': {'Get': 'Parameters.InstanceCount'},\n",
       "      'VolumeSizeInGB': 30}},\n",
       "    'AppSpecification': {'ImageUri': '683313688378.dkr.ecr.us-east-1.amazonaws.com/sagemaker-scikit-learn:1.0-1-cpu-py3',\n",
       "     'ContainerEntrypoint': ['python3',\n",
       "      '/opt/ml/processing/input/code/evaluation.py']},\n",
       "    'RoleArn': 'arn:aws:iam::119174016168:role/service-role/AmazonSageMaker-ExecutionRole-20211014T093628',\n",
       "    'ProcessingInputs': [{'InputName': 'input-1',\n",
       "      'AppManaged': False,\n",
       "      'S3Input': {'S3Uri': {'Get': 'Steps.BatchTransformStep.TransformOutput.S3OutputPath'},\n",
       "       'LocalPath': '/opt/ml/processing/input/predictions',\n",
       "       'S3DataType': 'S3Prefix',\n",
       "       'S3InputMode': 'File',\n",
       "       'S3DataDistributionType': 'FullyReplicated',\n",
       "       'S3CompressionType': 'None'}},\n",
       "     {'InputName': 'input-2',\n",
       "      'AppManaged': False,\n",
       "      'S3Input': {'S3Uri': 's3://sagemaker-us-east-1-119174016168/01-dw-datasets/true_labels.csv',\n",
       "       'LocalPath': '/opt/ml/processing/input/true_labels',\n",
       "       'S3DataType': 'S3Prefix',\n",
       "       'S3InputMode': 'File',\n",
       "       'S3DataDistributionType': 'FullyReplicated',\n",
       "       'S3CompressionType': 'None'}},\n",
       "     {'InputName': 'code',\n",
       "      'AppManaged': False,\n",
       "      'S3Input': {'S3Uri': 's3://sagemaker-us-east-1-119174016168/LowCodePipeline/code/52e14e6bdb6691b4f3c5cdc0752c0e6a/evaluation.py',\n",
       "       'LocalPath': '/opt/ml/processing/input/code',\n",
       "       'S3DataType': 'S3Prefix',\n",
       "       'S3InputMode': 'File',\n",
       "       'S3DataDistributionType': 'FullyReplicated',\n",
       "       'S3CompressionType': 'None'}}],\n",
       "    'ProcessingOutputConfig': {'Outputs': [{'OutputName': 'evaluation_metrics',\n",
       "       'AppManaged': False,\n",
       "       'S3Output': {'S3Uri': {'Std:Join': {'On': '/',\n",
       "          'Values': ['s3:/',\n",
       "           'sagemaker-us-east-1-119174016168',\n",
       "           '01-dw-datasets',\n",
       "           'evaluation']}},\n",
       "        'LocalPath': '/opt/ml/processing/evaluation',\n",
       "        'S3UploadMode': 'EndOfJob'}}]}},\n",
       "   'PropertyFiles': [{'PropertyFileName': 'evaluation',\n",
       "     'OutputName': 'evaluation_metrics',\n",
       "     'FilePath': 'evaluation_metrics.json'}]},\n",
       "  {'Name': 'ConditionalStep',\n",
       "   'Type': 'Condition',\n",
       "   'Arguments': {'Conditions': [{'Type': 'GreaterThanOrEqualTo',\n",
       "      'LeftValue': {'Std:JsonGet': {'PropertyFile': {'Get': 'Steps.ModelEvaluationStep.PropertyFiles.evaluation'},\n",
       "        'Path': 'classification_metrics.weighted_f1.value'}},\n",
       "      'RightValue': {'Get': 'Parameters.ModelRegistrationMetricThreshold'}}],\n",
       "    'IfSteps': [{'Name': 'MeetsThreshold-RegisterModel',\n",
       "      'Type': 'RegisterModel',\n",
       "      'Arguments': {'ModelPackageGroupName': {'Get': 'Parameters.ModelPackageName'},\n",
       "       'ModelMetrics': {'ModelQuality': {'Statistics': {'ContentType': 'application/json',\n",
       "          'S3Uri': {'Get': 'Steps.AutoMLStep.BestCandidateProperties.ModelInsightsJsonReportPath'}}},\n",
       "        'Bias': {},\n",
       "        'Explainability': {'Report': {'ContentType': 'application/json',\n",
       "          'S3Uri': {'Get': 'Steps.AutoMLStep.BestCandidateProperties.ExplainabilityJsonReportPath'}}}},\n",
       "       'InferenceSpecification': {'Containers': [{'Image': '663277389841.dkr.ecr.us-east-1.amazonaws.com/sagemaker-data-wrangler-container:1.x',\n",
       "          'Environment': {'INFERENCE_TARGET_COLUMN_NAME': 'loan_status'},\n",
       "          'ModelDataUrl': 's3://sagemaker-us-east-1-119174016168/data_wrangler_inference_flows/loans_2022-12-22-04-37-36.tar.gz'},\n",
       "         {'Image': {'Get': 'Steps.AutoMLStep.BestCandidate.InferenceContainers[0].Image'},\n",
       "          'Environment': {'MODEL_NAME': {'Get': \"Steps.AutoMLStep.BestCandidate.InferenceContainers[0].Environment['MODEL_NAME']\"},\n",
       "           'SAGEMAKER_DEFAULT_INVOCATIONS_ACCEPT': {'Get': \"Steps.AutoMLStep.BestCandidate.InferenceContainers[0].Environment['SAGEMAKER_DEFAULT_INVOCATIONS_ACCEPT']\"},\n",
       "           'SAGEMAKER_SUBMIT_DIRECTORY': {'Get': \"Steps.AutoMLStep.BestCandidate.InferenceContainers[0].Environment['SAGEMAKER_SUBMIT_DIRECTORY']\"},\n",
       "           'SAGEMAKER_INFERENCE_SUPPORTED': {'Get': \"Steps.AutoMLStep.BestCandidate.InferenceContainers[0].Environment['SAGEMAKER_INFERENCE_SUPPORTED']\"},\n",
       "           'SAGEMAKER_INFERENCE_OUTPUT': {'Get': \"Steps.AutoMLStep.BestCandidate.InferenceContainers[0].Environment['SAGEMAKER_INFERENCE_OUTPUT']\"},\n",
       "           'SAGEMAKER_PROGRAM': {'Get': \"Steps.AutoMLStep.BestCandidate.InferenceContainers[0].Environment['SAGEMAKER_PROGRAM']\"}},\n",
       "          'ModelDataUrl': {'Get': 'Steps.AutoMLStep.BestCandidate.InferenceContainers[0].ModelDataUrl'}}],\n",
       "        'SupportedContentTypes': ['text/csv'],\n",
       "        'SupportedResponseMIMETypes': ['text/csv'],\n",
       "        'SupportedRealtimeInferenceInstanceTypes': [{'Get': 'Parameters.InstanceType'}],\n",
       "        'SupportedTransformInstanceTypes': [{'Get': 'Parameters.InstanceType'}]},\n",
       "       'ModelApprovalStatus': {'Get': 'Parameters.ModelApprovalStatus'}}}],\n",
       "    'ElseSteps': []}}]}"
      ]
     },
     "execution_count": 48,
     "metadata": {},
     "output_type": "execute_result"
    }
   ],
   "source": [
    "definition = json.loads(pipeline.definition())\n",
    "definition"
   ]
  },
  {
   "cell_type": "markdown",
   "id": "f5deb5ca-b393-4107-9f8d-cb702ad6e6f6",
   "metadata": {},
   "source": [
    "#### Start Pipeline Execution"
   ]
  },
  {
   "cell_type": "code",
   "execution_count": 49,
   "id": "b72bb379-4d9e-4efa-bffa-00d9f122f721",
   "metadata": {
    "tags": []
   },
   "outputs": [
    {
     "name": "stdout",
     "output_type": "stream",
     "text": [
      "\n",
      "Job Name:  sagemaker-scikit-learn-2022-12-23-06-20-57-812\n",
      "Inputs:  [{'InputName': 'input-1', 'AppManaged': False, 'S3Input': {'S3Uri': <sagemaker.workflow.properties.Properties object at 0x7f009420f790>, 'LocalPath': '/opt/ml/processing/input/predictions', 'S3DataType': 'S3Prefix', 'S3InputMode': 'File', 'S3DataDistributionType': 'FullyReplicated', 'S3CompressionType': 'None'}}, {'InputName': 'input-2', 'AppManaged': False, 'S3Input': {'S3Uri': 's3://sagemaker-us-east-1-119174016168/01-dw-datasets/true_labels.csv', 'LocalPath': '/opt/ml/processing/input/true_labels', 'S3DataType': 'S3Prefix', 'S3InputMode': 'File', 'S3DataDistributionType': 'FullyReplicated', 'S3CompressionType': 'None'}}, {'InputName': 'code', 'AppManaged': False, 'S3Input': {'S3Uri': 's3://sagemaker-us-east-1-119174016168/LowCodePipeline/code/52e14e6bdb6691b4f3c5cdc0752c0e6a/evaluation.py', 'LocalPath': '/opt/ml/processing/input/code', 'S3DataType': 'S3Prefix', 'S3InputMode': 'File', 'S3DataDistributionType': 'FullyReplicated', 'S3CompressionType': 'None'}}]\n",
      "Outputs:  [{'OutputName': 'evaluation_metrics', 'AppManaged': False, 'S3Output': {'S3Uri': Join(on='/', values=['s3:/', 'sagemaker-us-east-1-119174016168', '01-dw-datasets', 'evaluation']), 'LocalPath': '/opt/ml/processing/evaluation', 'S3UploadMode': 'EndOfJob'}}]\n"
     ]
    },
    {
     "data": {
      "text/plain": [
       "{'PipelineArn': 'arn:aws:sagemaker:us-east-1:119174016168:pipeline/lowcodepipeline',\n",
       " 'ResponseMetadata': {'RequestId': '0933d480-cf3d-4fea-8035-4bfbe9412964',\n",
       "  'HTTPStatusCode': 200,\n",
       "  'HTTPHeaders': {'x-amzn-requestid': '0933d480-cf3d-4fea-8035-4bfbe9412964',\n",
       "   'content-type': 'application/x-amz-json-1.1',\n",
       "   'content-length': '83',\n",
       "   'date': 'Fri, 23 Dec 2022 06:20:57 GMT'},\n",
       "  'RetryAttempts': 0}}"
      ]
     },
     "execution_count": 49,
     "metadata": {},
     "output_type": "execute_result"
    }
   ],
   "source": [
    "pipeline.upsert(role_arn=ROLE)"
   ]
  },
  {
   "cell_type": "code",
   "execution_count": 50,
   "id": "2502988a-d8f3-4422-8eba-14af696c50ed",
   "metadata": {
    "tags": []
   },
   "outputs": [
    {
     "data": {
      "text/plain": [
       "_PipelineExecution(arn='arn:aws:sagemaker:us-east-1:119174016168:pipeline/lowcodepipeline/execution/kru6c2uon469', sagemaker_session=<sagemaker.session.Session object at 0x7f009837d1d0>)"
      ]
     },
     "execution_count": 50,
     "metadata": {},
     "output_type": "execute_result"
    }
   ],
   "source": [
    "pipeline.start()"
   ]
  },
  {
   "cell_type": "code",
   "execution_count": null,
   "id": "5e10f052-4ca6-4cbd-9e1f-086b0b5296bd",
   "metadata": {},
   "outputs": [],
   "source": []
  },
  {
   "cell_type": "code",
   "execution_count": null,
   "id": "c30ec4cb-35a7-48b2-a876-a517f37ea5b9",
   "metadata": {},
   "outputs": [],
   "source": []
  },
  {
   "cell_type": "code",
   "execution_count": null,
   "id": "d3caa357-ff88-4b2b-9319-41d07e8bb89e",
   "metadata": {},
   "outputs": [],
   "source": []
  },
  {
   "cell_type": "code",
   "execution_count": null,
   "id": "418017d1-07b7-4b0f-831e-4b9c77f4edf5",
   "metadata": {},
   "outputs": [],
   "source": []
  }
 ],
 "metadata": {
  "forced_instance_type": "ml.t3.medium",
  "forced_lcc_arn": "",
  "instance_type": "ml.t3.medium",
  "kernelspec": {
   "display_name": "Python 3 (Data Science)",
   "language": "python",
   "name": "python3__SAGEMAKER_INTERNAL__arn:aws:sagemaker:us-east-1:081325390199:image/datascience-1.0"
  },
  "language_info": {
   "codemirror_mode": {
    "name": "ipython",
    "version": 3
   },
   "file_extension": ".py",
   "mimetype": "text/x-python",
   "name": "python",
   "nbconvert_exporter": "python",
   "pygments_lexer": "ipython3",
   "version": "3.7.10"
  }
 },
 "nbformat": 4,
 "nbformat_minor": 5
}
